{
 "cells": [
  {
   "cell_type": "code",
   "execution_count": 1,
   "metadata": {
    "collapsed": false
   },
   "outputs": [
    {
     "name": "stdout",
     "output_type": "stream",
     "text": [
      "Loading example1.xls which has size 7168 bytes\n",
      "Table names: ['beatles', 'stones']\n"
     ]
    },
    {
     "data": {
      "text/html": [
       "<div id=\"injblock1001\">#injblock1001\n",
       "<style>\n",
       "table.ex, table.exkey { border: thin black solid }\n",
       "table.ex td, table.ex tr { border: none }\n",
       "table.ex td:hover { border: thin blue solid }\n",
       "table.ex td.excOBS:hover { border: thin red solid }\n",
       "table.ex td.selected { border: thick red solid }\n",
       "</style>\n",
       "\n",
       "\n",
       "Table: <b>beatles</b> <table class=\"exkey\">\n",
       "<tr></tr></table>\n",
       "\n",
       "<table class=\"ex\">\n",
       "<tr><td title=\"0 0\">Date</td><td title=\"1 0\">2014.0</td><td title=\"2 0\"></td><td title=\"3 0\"></td></tr>\n",
       "<tr><td title=\"0 1\"></td><td title=\"1 1\"></td><td title=\"2 1\"></td><td title=\"3 1\"></td></tr>\n",
       "<tr><td title=\"0 2\"></td><td title=\"1 2\">Cars</td><td style=\"font-weight:bold\" title=\"2 2\">Planes</td><td style=\"font-weight:bold\" title=\"3 2\">Trains</td></tr>\n",
       "<tr><td title=\"0 3\">John</td><td title=\"1 3\">2.0</td><td title=\"2 3\">2.0</td><td title=\"3 3\">1.0</td></tr>\n",
       "<tr><td title=\"0 4\">Paul</td><td title=\"1 4\">4xxxx</td><td title=\"2 4\">3.0</td><td title=\"3 4\">2.0</td></tr>\n",
       "<tr><td title=\"0 5\">Ringo</td><td title=\"1 5\">4.0</td><td title=\"2 5\">1.0</td><td title=\"3 5\">3.0</td></tr>\n",
       "<tr><td title=\"0 6\">George</td><td title=\"1 6\">2.0</td><td title=\"2 6\">5.0</td><td title=\"3 6\">5.0</td></tr>\n",
       "</table>\n",
       "\n",
       "</div>\n"
      ],
      "text/plain": [
       "<IPython.core.display.HTML object>"
      ]
     },
     "metadata": {},
     "output_type": "display_data"
    }
   ],
   "source": [
    "# start up again with our simple example\n",
    "from databaker.framework import *\n",
    "tabs = loadxlstabs(\"example1.xls\")\n",
    "tab = tabs[0]  # there is only one table\n",
    "savepreviewhtml(tabs[0])\n"
   ]
  },
  {
   "cell_type": "code",
   "execution_count": 2,
   "metadata": {
    "collapsed": false
   },
   "outputs": [
    {
     "name": "stdout",
     "output_type": "stream",
     "text": [
      "The bold cells in this table are {<D3 'Trains'>, <C3 'Planes'>}\n",
      "The 2 cells below these bold cells are {<C4 2.0>, <D4 1.0>}\n",
      "The cell that says 'Cars' is {<B3 'Cars'>}\n",
      "Everything in the column below the 'Cars' cell is {<B5 '4xxxx'>, <B6 4.0>, <B7 2.0>, <B4 2.0>}\n",
      "If you wanted to include the 'Cars' heading, then use expand {<B5 '4xxxx'>, <B6 4.0>, <B3 'Cars'>, <B7 2.0>, <B4 2.0>}\n"
     ]
    }
   ],
   "source": [
    "# A table is also \"bag of cells\", which just so happens to be a set of all the \n",
    "# cells in the table.  \n",
    "\n",
    "# A \"bag of cells\" is like a Python set (and looks like one when you print it), \n",
    "# but it has various selection functions that help you navigate around the table\n",
    "\n",
    "# There will be a full list of these functions in the next tutorial, but for now\n",
    "# here are some examples:\n",
    "# https://sensiblecodeio.github.io/quickcode-ons-docs/lang/function_reference.html\n",
    "\n",
    "bb = tab.is_bold()\n",
    "print(\"The bold cells in this table are\", bb)\n",
    "print(\"The\", len(bb), \"cells below these bold cells are\", bb.shift(DOWN))\n",
    "cc = tab.filter(\"Cars\")\n",
    "cc.assert_one()\n",
    "print(\"The cell that says 'Cars' is\", cc)\n",
    "print(\"Everything in the column below the 'Cars' cell is\", cc.fill(DOWN))\n",
    "print(\"If you wanted to include the 'Cars' heading, then use expand\", cc.expand(DOWN))\n",
    "\n"
   ]
  },
  {
   "cell_type": "code",
   "execution_count": 3,
   "metadata": {
    "collapsed": false
   },
   "outputs": [
    {
     "data": {
      "text/plain": [
       "[<B3 'Cars'>, <B4 2.0>, <B5 '4xxxx'>, <B6 4.0>, <B7 2.0>]"
      ]
     },
     "execution_count": 3,
     "metadata": {},
     "output_type": "execute_result"
    }
   ],
   "source": [
    "# Note that the bags are printed as unordered sets, which can make them hard to read.\n",
    "# This is a feature of the underlying messytables library.  However, if you can't stand \n",
    "# it, it is possible to print them in tabular order by converting the underlying \n",
    "# unordered set into an ordered list and sorting it\n",
    "hcc = tab.filter(\"Cars\").expand(DOWN)\n",
    "sorted(hcc.unordered_cells, key=lambda Cell:(Cell.y, Cell.x))"
   ]
  },
  {
   "cell_type": "code",
   "execution_count": 4,
   "metadata": {
    "collapsed": false
   },
   "outputs": [
    {
     "data": {
      "text/html": [
       "<div id=\"injblock1002\">#injblock1002\n",
       "<style>\n",
       "table.ex, table.exkey { border: thin black solid }\n",
       "table.ex td, table.ex tr { border: none }\n",
       "table.ex td:hover { border: thin blue solid }\n",
       "table.ex td.excOBS:hover { border: thin red solid }\n",
       "table.ex td.selected { border: thick red solid }\n",
       "</style>\n",
       "\n",
       "\n",
       "Table: <b>beatles</b> <table class=\"exkey\">\n",
       "<tr><td class=\"xc1\" style=\"background-color:LightGreen\">item 0</td></tr></table>\n",
       "\n",
       "<table class=\"ex\">\n",
       "<tr><td title=\"0 0\">Date</td><td title=\"1 0\">2014.0</td><td title=\"2 0\"></td><td title=\"3 0\"></td></tr>\n",
       "<tr><td title=\"0 1\"></td><td title=\"1 1\"></td><td title=\"2 1\"></td><td title=\"3 1\"></td></tr>\n",
       "<tr><td title=\"0 2\"></td><td style=\"background-color:LightGreen\" title=\"1 2\">Cars</td><td style=\"font-weight:bold\" title=\"2 2\">Planes</td><td style=\"font-weight:bold\" title=\"3 2\">Trains</td></tr>\n",
       "<tr><td title=\"0 3\">John</td><td style=\"background-color:LightGreen\" title=\"1 3\">2.0</td><td title=\"2 3\">2.0</td><td title=\"3 3\">1.0</td></tr>\n",
       "<tr><td title=\"0 4\">Paul</td><td style=\"background-color:LightGreen\" title=\"1 4\">4xxxx</td><td title=\"2 4\">3.0</td><td title=\"3 4\">2.0</td></tr>\n",
       "<tr><td title=\"0 5\">Ringo</td><td style=\"background-color:LightGreen\" title=\"1 5\">4.0</td><td title=\"2 5\">1.0</td><td title=\"3 5\">3.0</td></tr>\n",
       "<tr><td title=\"0 6\">George</td><td style=\"background-color:LightGreen\" title=\"1 6\">2.0</td><td title=\"2 6\">5.0</td><td title=\"3 6\">5.0</td></tr>\n",
       "</table>\n",
       "\n",
       "</div>\n"
      ],
      "text/plain": [
       "<IPython.core.display.HTML object>"
      ]
     },
     "metadata": {},
     "output_type": "display_data"
    }
   ],
   "source": [
    "# Although, sometimes it's easier just to preview it in tabular form using this helper function\n",
    "savepreviewhtml(hcc)"
   ]
  },
  {
   "cell_type": "code",
   "execution_count": 5,
   "metadata": {
    "collapsed": false
   },
   "outputs": [
    {
     "name": "stdout",
     "output_type": "stream",
     "text": [
      "All the cells that have an 'o' in them: {<A4 'John'>, <A6 'Ringo'>, <A7 'George'>}\n"
     ]
    }
   ],
   "source": [
    "# As you work through this tutorial, do please feel free to temporarily insert \n",
    "# new Jupyter-Cells in order to give yourself a place to experiment with any \n",
    "# of the functions that are available.  (Remember, the value of the last line in a \n",
    "# Jupyter-Cell is always printed out -- in addition to any earlier print-statements.)\n",
    "print(\"All the cells that have an 'o' in them:\", tab.regex(\".*?o\"))\n"
   ]
  },
  {
   "cell_type": "code",
   "execution_count": 6,
   "metadata": {
    "collapsed": false
   },
   "outputs": [
    {
     "data": {
      "text/html": [
       "<div id=\"injblock1003\">#injblock1003\n",
       "<style>\n",
       "table.ex, table.exkey { border: thin black solid }\n",
       "table.ex td, table.ex tr { border: none }\n",
       "table.ex td:hover { border: thin blue solid }\n",
       "table.ex td.excOBS:hover { border: thin red solid }\n",
       "table.ex td.selected { border: thick red solid }\n",
       "</style>\n",
       "\n",
       "\n",
       "Table: <b>beatles</b> <table class=\"exkey\">\n",
       "<tr><td class=\"xc1\" style=\"background-color:LightGreen\">item 0</td></tr></table>\n",
       "\n",
       "<table class=\"ex\">\n",
       "<tr><td title=\"0 0\">Date</td><td style=\"background-color:LightGreen\" title=\"1 0\">2014.0</td><td title=\"2 0\"></td><td title=\"3 0\"></td></tr>\n",
       "<tr><td title=\"0 1\"></td><td title=\"1 1\"></td><td title=\"2 1\"></td><td title=\"3 1\"></td></tr>\n",
       "<tr><td title=\"0 2\"></td><td title=\"1 2\">Cars</td><td style=\"font-weight:bold\" title=\"2 2\">Planes</td><td style=\"font-weight:bold\" title=\"3 2\">Trains</td></tr>\n",
       "<tr><td title=\"0 3\">John</td><td title=\"1 3\">2.0</td><td title=\"2 3\">2.0</td><td title=\"3 3\">1.0</td></tr>\n",
       "<tr><td title=\"0 4\">Paul</td><td title=\"1 4\">4xxxx</td><td title=\"2 4\">3.0</td><td title=\"3 4\">2.0</td></tr>\n",
       "<tr><td title=\"0 5\">Ringo</td><td title=\"1 5\">4.0</td><td title=\"2 5\">1.0</td><td title=\"3 5\">3.0</td></tr>\n",
       "<tr><td title=\"0 6\">George</td><td title=\"1 6\">2.0</td><td title=\"2 6\">5.0</td><td title=\"3 6\">5.0</td></tr>\n",
       "</table>\n",
       "\n",
       "</div>\n"
      ],
      "text/plain": [
       "<IPython.core.display.HTML object>"
      ]
     },
     "metadata": {},
     "output_type": "display_data"
    }
   ],
   "source": [
    "# Now we begin the actual worked example, which shows you how we find the cells \n",
    "# that contain the observations, match them to the cells that are the headings \n",
    "# in the tables, and then extract their values\n",
    "\n",
    "# We can select bags of of cells from this tab and plot them using savepreviewhtml(), like so:\n",
    "savepreviewhtml(tab.excel_ref('B1'))"
   ]
  },
  {
   "cell_type": "code",
   "execution_count": 7,
   "metadata": {
    "collapsed": false
   },
   "outputs": [
    {
     "data": {
      "text/html": [
       "<div id=\"injblock1004\">#injblock1004\n",
       "<style>\n",
       "table.ex, table.exkey { border: thin black solid }\n",
       "table.ex td, table.ex tr { border: none }\n",
       "table.ex td:hover { border: thin blue solid }\n",
       "table.ex td.excOBS:hover { border: thin red solid }\n",
       "table.ex td.selected { border: thick red solid }\n",
       "</style>\n",
       "\n",
       "\n",
       "Table: <b>beatles</b> <table class=\"exkey\">\n",
       "<tr><td class=\"xc1\" style=\"background-color:LightGreen\">item 0</td></tr></table>\n",
       "\n",
       "<table class=\"ex\">\n",
       "<tr><td title=\"0 0\">Date</td><td title=\"1 0\">2014.0</td><td title=\"2 0\"></td><td title=\"3 0\"></td></tr>\n",
       "<tr><td title=\"0 1\"></td><td title=\"1 1\"></td><td title=\"2 1\"></td><td title=\"3 1\"></td></tr>\n",
       "<tr><td title=\"0 2\"></td><td title=\"1 2\">Cars</td><td style=\"font-weight:bold\" title=\"2 2\">Planes</td><td style=\"font-weight:bold\" title=\"3 2\">Trains</td></tr>\n",
       "<tr><td title=\"0 3\">John</td><td style=\"background-color:LightGreen\" title=\"1 3\">2.0</td><td style=\"background-color:LightGreen\" title=\"2 3\">2.0</td><td style=\"background-color:LightGreen\" title=\"3 3\">1.0</td></tr>\n",
       "<tr><td title=\"0 4\">Paul</td><td style=\"background-color:LightGreen\" title=\"1 4\">4xxxx</td><td style=\"background-color:LightGreen\" title=\"2 4\">3.0</td><td style=\"background-color:LightGreen\" title=\"3 4\">2.0</td></tr>\n",
       "<tr><td title=\"0 5\">Ringo</td><td style=\"background-color:LightGreen\" title=\"1 5\">4.0</td><td style=\"background-color:LightGreen\" title=\"2 5\">1.0</td><td style=\"background-color:LightGreen\" title=\"3 5\">3.0</td></tr>\n",
       "<tr><td title=\"0 6\">George</td><td style=\"background-color:LightGreen\" title=\"1 6\">2.0</td><td style=\"background-color:LightGreen\" title=\"2 6\">5.0</td><td style=\"background-color:LightGreen\" title=\"3 6\">5.0</td></tr>\n",
       "</table>\n",
       "\n",
       "</div>\n"
      ],
      "text/plain": [
       "<IPython.core.display.HTML object>"
      ]
     },
     "metadata": {},
     "output_type": "display_data"
    }
   ],
   "source": [
    "# It's important to select the observations as one of the sets\n",
    "obs = tab.excel_ref('B4').expand(DOWN).expand(RIGHT).is_not_blank().is_not_whitespace()\n",
    "savepreviewhtml(obs)"
   ]
  },
  {
   "cell_type": "code",
   "execution_count": 8,
   "metadata": {
    "collapsed": false
   },
   "outputs": [
    {
     "data": {
      "text/plain": [
       "{<C4 2.0>, <B5 '4xxxx'>, <C7 5.0>, <C6 1.0>, <B4 2.0>, <D7 5.0>, <D4 1.0>, <C5 3.0>, <D6 3.0>, <B6 4.0>, <B7 2.0>, <D5 2.0>}"
      ]
     },
     "execution_count": 8,
     "metadata": {},
     "output_type": "execute_result"
    }
   ],
   "source": [
    "# You can also print the bag of unordered cells in one of these sets\n",
    "# There are 12 here\n",
    "obs\n"
   ]
  },
  {
   "cell_type": "code",
   "execution_count": 9,
   "metadata": {
    "collapsed": false
   },
   "outputs": [
    {
     "data": {
      "text/html": [
       "<div id=\"injblock1005\">#injblock1005\n",
       "<style>\n",
       "table.ex, table.exkey { border: thin black solid }\n",
       "table.ex td, table.ex tr { border: none }\n",
       "table.ex td:hover { border: thin blue solid }\n",
       "table.ex td.excOBS:hover { border: thin red solid }\n",
       "table.ex td.selected { border: thick red solid }\n",
       "</style>\n",
       "\n",
       "\n",
       "Table: <b>beatles</b> <table class=\"exkey\">\n",
       "<tr><td class=\"xc1\" style=\"background-color:LightGreen\">item 0</td><td class=\"xc2\" style=\"background-color:MistyRose\">item 1</td></tr></table>\n",
       "\n",
       "<table class=\"ex\">\n",
       "<tr><td title=\"0 0\">Date</td><td title=\"1 0\">2014.0</td><td title=\"2 0\"></td><td title=\"3 0\"></td></tr>\n",
       "<tr><td title=\"0 1\"></td><td title=\"1 1\"></td><td title=\"2 1\"></td><td title=\"3 1\"></td></tr>\n",
       "<tr><td title=\"0 2\"></td><td style=\"background-color:LightGreen\" title=\"1 2\">Cars</td><td style=\"background-color:LightGreen;font-weight:bold\" title=\"2 2\">Planes</td><td style=\"background-color:LightGreen;font-weight:bold\" title=\"3 2\">Trains</td></tr>\n",
       "<tr><td style=\"background-color:MistyRose\" title=\"0 3\">John</td><td title=\"1 3\">2.0</td><td title=\"2 3\">2.0</td><td title=\"3 3\">1.0</td></tr>\n",
       "<tr><td style=\"background-color:MistyRose\" title=\"0 4\">Paul</td><td title=\"1 4\">4xxxx</td><td title=\"2 4\">3.0</td><td title=\"3 4\">2.0</td></tr>\n",
       "<tr><td style=\"background-color:MistyRose\" title=\"0 5\">Ringo</td><td title=\"1 5\">4.0</td><td title=\"2 5\">1.0</td><td title=\"3 5\">3.0</td></tr>\n",
       "<tr><td style=\"background-color:MistyRose\" title=\"0 6\">George</td><td title=\"1 6\">2.0</td><td title=\"2 6\">5.0</td><td title=\"3 6\">5.0</td></tr>\n",
       "</table>\n",
       "\n",
       "</div>\n"
      ],
      "text/plain": [
       "<IPython.core.display.HTML object>"
      ]
     },
     "metadata": {},
     "output_type": "display_data"
    },
    {
     "name": "stdout",
     "output_type": "stream",
     "text": [
      "r1 is {<D3 'Trains'>, <B3 'Cars'>, <C3 'Planes'>}\n",
      "r2 is {<A4 'John'>, <A6 'Ringo'>, <A5 'Paul'>, <A7 'George'>}\n"
     ]
    }
   ],
   "source": [
    "# It can be useful to look at two cell bags at once with different colours\n",
    "r1 = tab.excel_ref('B3').expand(RIGHT)\n",
    "r2 = tab.excel_ref('A3').fill(DOWN)\n",
    "savepreviewhtml([r1, r2])  # <-- here we pass in a list containing two cell bags\n",
    "print(\"r1 is\", r1)\n",
    "print(\"r2 is\", r2)"
   ]
  },
  {
   "cell_type": "code",
   "execution_count": 10,
   "metadata": {
    "collapsed": false
   },
   "outputs": [
    {
     "name": "stdout",
     "output_type": "stream",
     "text": [
      "Cell {<C4 2.0>} matches (<C3 'Planes'>, 'Planes') in dimension Vehicles\n"
     ]
    }
   ],
   "source": [
    "# An HDim is an object made from a bag of cells corresponding to a set of headings, a name, \n",
    "# and some instructions on how to match the correct heading cell from \n",
    "# an observation cell.  \n",
    "\n",
    "# The HDim constructor's arguments are: (cellbag, name, DIRECTLY|CLOSEST, *direction*)\n",
    "h1 = HDim(r1, \"Vehicles\", DIRECTLY, ABOVE)\n",
    "\n",
    "# Let's take a single cell and matches its heading using the cellvalobs function\n",
    "cc = tab.excel_ref('C4')\n",
    "print(\"Cell\", cc, \"matches\", h1.cellvalobs(cc), \"in dimension\", h1.label)\n"
   ]
  },
  {
   "cell_type": "code",
   "execution_count": 11,
   "metadata": {
    "collapsed": false
   },
   "outputs": [
    {
     "name": "stdout",
     "output_type": "stream",
     "text": [
      "Obs {<B4 2.0>} maps to (<B3 'Cars'>, 'Cars')\n",
      "Obs {<C4 2.0>} maps to (<C3 'Planes'>, 'Planes')\n",
      "Obs {<D4 1.0>} maps to (<D3 'Trains'>, 'Trains')\n",
      "Obs {<B5 '4xxxx'>} maps to (<B3 'Cars'>, 'Cars')\n",
      "Obs {<C5 3.0>} maps to (<C3 'Planes'>, 'Planes')\n",
      "Obs {<D5 2.0>} maps to (<D3 'Trains'>, 'Trains')\n",
      "Obs {<B6 4.0>} maps to (<B3 'Cars'>, 'Cars')\n",
      "Obs {<C6 1.0>} maps to (<C3 'Planes'>, 'Planes')\n",
      "Obs {<D6 3.0>} maps to (<D3 'Trains'>, 'Trains')\n",
      "Obs {<B7 2.0>} maps to (<B3 'Cars'>, 'Cars')\n",
      "Obs {<C7 5.0>} maps to (<C3 'Planes'>, 'Planes')\n",
      "Obs {<D7 5.0>} maps to (<D3 'Trains'>, 'Trains')\n"
     ]
    }
   ],
   "source": [
    "# You can start to see through to the final result of all this work when you \n",
    "# print out the lookup values for every observation in the table at once.  \n",
    "for ob in obs:\n",
    "    print(\"Obs\", ob, \"maps to\", h1.cellvalobs(ob))"
   ]
  },
  {
   "cell_type": "code",
   "execution_count": 12,
   "metadata": {
    "collapsed": false
   },
   "outputs": [
    {
     "name": "stdout",
     "output_type": "stream",
     "text": [
      "Obs {<B4 2.0>} maps to (<B3 'Cars'>, 'Horses')\n",
      "Obs {<C4 2.0>} maps to (<C3 'Planes'>, 'Planes')\n",
      "Obs {<D4 1.0>} maps to (<D3 'Trains'>, 'Trains')\n",
      "Obs {<B5 '4xxxx'>} maps to (<B3 'Cars'>, 'Horses')\n",
      "Obs {<C5 3.0>} maps to (<C3 'Planes'>, 'Planes')\n",
      "Obs {<D5 2.0>} maps to (<D3 'Trains'>, 'Trains')\n",
      "Obs {<B6 4.0>} maps to (<B3 'Cars'>, 'Horses')\n",
      "Obs {<C6 1.0>} maps to (<C3 'Planes'>, 'Planes')\n",
      "Obs {<D6 3.0>} maps to (<D3 'Trains'>, 'Trains')\n",
      "Obs {<B7 2.0>} maps to (<B3 'Cars'>, 'Horses')\n",
      "Obs {<C7 5.0>} maps to (<C3 'Planes'>, 'Planes')\n",
      "Obs {<D7 5.0>} maps to (<D3 'Trains'>, 'Trains')\n"
     ]
    }
   ],
   "source": [
    "# Note that the return value of the h1.cellvalobs() function is actually a pair \n",
    "# composed of the heading cell reference and its value.  This is to help us \n",
    "# provide alternative values in the output in difficult cases.  \n",
    "\n",
    "# The heading cells do not always contain the values you want them \n",
    "# to give in the final output.  \n",
    "\n",
    "# For example, we can map its string value to something else, like so\n",
    "h1.cellvalueoverride[\"Cars\"] = \"Horses\"\n",
    "for ob in obs:\n",
    "    print(\"Obs\", ob, \"maps to\", h1.cellvalobs(ob))"
   ]
  },
  {
   "cell_type": "code",
   "execution_count": 13,
   "metadata": {
    "collapsed": false
   },
   "outputs": [
    {
     "name": "stdout",
     "output_type": "stream",
     "text": [
      "Obs {<B4 2.0>} maps to (<B3 'Cars'>, 'Horses')\n",
      "Obs {<C4 2.0>} maps to (<C3 'Planes'>, 'Submarines')\n",
      "Obs {<D4 1.0>} maps to (<D3 'Trains'>, 'Trains')\n",
      "Obs {<B5 '4xxxx'>} maps to (<B3 'Cars'>, 'Horses')\n",
      "Obs {<C5 3.0>} maps to (<C3 'Planes'>, 'Submarines')\n",
      "Obs {<D5 2.0>} maps to (<D3 'Trains'>, 'Trains')\n",
      "Obs {<B6 4.0>} maps to (<B3 'Cars'>, 'Horses')\n",
      "Obs {<C6 1.0>} maps to (<C3 'Planes'>, 'Submarines')\n",
      "Obs {<D6 3.0>} maps to (<D3 'Trains'>, 'Trains')\n",
      "Obs {<B7 2.0>} maps to (<B3 'Cars'>, 'Horses')\n",
      "Obs {<C7 5.0>} maps to (<C3 'Planes'>, 'Submarines')\n",
      "Obs {<D7 5.0>} maps to (<D3 'Trains'>, 'Trains')\n"
     ]
    }
   ],
   "source": [
    "# Alternatively, you can override by the reference to a single cell to a value \n",
    "# rather than applying the mapping to its string value, like so:\n",
    "c3cell = tab.excel_ref('C3')._cell\n",
    "h1.cellvalueoverride[c3cell] = \"Submarines\"\n",
    "for ob in obs:\n",
    "    print(\"Obs\", ob, \"maps to\", h1.cellvalobs(ob))"
   ]
  },
  {
   "cell_type": "code",
   "execution_count": 14,
   "metadata": {
    "collapsed": true
   },
   "outputs": [],
   "source": [
    "# Although in the above case we could have implemented by \n",
    "#    h1.cellvalueoverride[\"Planes\"] = \"Submarines\", \n",
    "# this technique would have still worked if C3 was blank.  \n",
    "\n",
    "# Sometimes in very complex cases it convenient to build \n",
    "# headings that contain blank cells, and then assign their \n",
    "# their values using cellvalueoverride map\n"
   ]
  },
  {
   "cell_type": "code",
   "execution_count": 15,
   "metadata": {
    "collapsed": false
   },
   "outputs": [
    {
     "name": "stdout",
     "output_type": "stream",
     "text": [
      "Obs {<B4 2.0>} maps to (None, 'Clouds')\n",
      "Obs {<C4 2.0>} maps to (<C3 'Planes'>, 'Submarines')\n",
      "Obs {<D4 1.0>} maps to (<D3 'Trains'>, 'Trains')\n",
      "Obs {<B5 '4xxxx'>} maps to (<B3 'Cars'>, 'Horses')\n",
      "Obs {<C5 3.0>} maps to (<C3 'Planes'>, 'Submarines')\n",
      "Obs {<D5 2.0>} maps to (<D3 'Trains'>, 'Trains')\n",
      "Obs {<B6 4.0>} maps to (<B3 'Cars'>, 'Horses')\n",
      "Obs {<C6 1.0>} maps to (<C3 'Planes'>, 'Submarines')\n",
      "Obs {<D6 3.0>} maps to (<D3 'Trains'>, 'Trains')\n",
      "Obs {<B7 2.0>} maps to (<B3 'Cars'>, 'Horses')\n",
      "Obs {<C7 5.0>} maps to (<C3 'Planes'>, 'Submarines')\n",
      "Obs {<D7 5.0>} maps to (<D3 'Trains'>, 'Trains')\n"
     ]
    }
   ],
   "source": [
    "# Finally, to handle the most extreme post processing cases, \n",
    "# you can override the header value for an \n",
    "# individual observation element to the value you want.  \n",
    "\n",
    "# Here we map just the top cell in the B-column to a different value, \n",
    "# in place of its normal matching heading.  \n",
    "# Since we don't get to a heading cell for obs B4, its slot is filled with None\n",
    "b4cell = tab.excel_ref('B4')._cell\n",
    "h1.cellvalueoverride[b4cell] = \"Clouds\"\n",
    "for ob in obs:\n",
    "    print(\"Obs\", ob, \"maps to\", h1.cellvalobs(ob))"
   ]
  },
  {
   "cell_type": "code",
   "execution_count": 16,
   "metadata": {
    "collapsed": false
   },
   "outputs": [
    {
     "name": "stdout",
     "output_type": "stream",
     "text": [
      "Wrong-Obs {<B1 2014.0>} maps to (<D3 'Trains'>, 'Trains')\n"
     ]
    }
   ],
   "source": [
    "# We can use this feature to manage default no-lookup values, \n",
    "# for example, take this cell (outside what happens to be the observation\n",
    "# area within the table) and see how its lookup into r1 according \n",
    "# to the rules in h1 gives an invalid (None) value\n",
    "wob = tab.excel_ref('B1')\n",
    "print(\"Wrong-Obs\", wob, \"maps to\", h1.cellvalobs(ob))"
   ]
  },
  {
   "cell_type": "code",
   "execution_count": 17,
   "metadata": {
    "collapsed": false
   },
   "outputs": [
    {
     "name": "stdout",
     "output_type": "stream",
     "text": [
      "Wrong-Obs {<B1 2014.0>} maps to (<D3 'Trains'>, 'Trains')\n"
     ]
    }
   ],
   "source": [
    "# But we can set the override to map None to a default value\n",
    "h1.cellvalueoverride[None] = \"Who knows?\"\n",
    "print(\"Wrong-Obs\", wob, \"maps to\", h1.cellvalobs(ob))"
   ]
  },
  {
   "cell_type": "code",
   "execution_count": 18,
   "metadata": {
    "collapsed": false
   },
   "outputs": [
    {
     "name": "stdout",
     "output_type": "stream",
     "text": [
      "Wrong-Obs {<B1 2014.0>} maps to (None, 'Beatles')\n"
     ]
    }
   ],
   "source": [
    "# This leads us onto a new feature, of a constant value dimension over the \n",
    "# whole obs set by referring to a None header set\n",
    "h3 = HDim(None, \"Category\", cellvalueoverride={None:\"Beatles\"})\n",
    "print(\"Wrong-Obs\", wob, \"maps to\", h3.cellvalobs(ob))"
   ]
  },
  {
   "cell_type": "code",
   "execution_count": 19,
   "metadata": {
    "collapsed": false
   },
   "outputs": [
    {
     "name": "stdout",
     "output_type": "stream",
     "text": [
      "Obs {<B4 2.0>} maps to (None, 'Beatles')\n",
      "Obs {<C4 2.0>} maps to (None, 'Beatles')\n",
      "Obs {<D4 1.0>} maps to (None, 'Beatles')\n",
      "Obs {<B5 '4xxxx'>} maps to (None, 'Beatles')\n",
      "Obs {<C5 3.0>} maps to (None, 'Beatles')\n",
      "Obs {<D5 2.0>} maps to (None, 'Beatles')\n",
      "Obs {<B6 4.0>} maps to (None, 'Beatles')\n",
      "Obs {<C6 1.0>} maps to (None, 'Beatles')\n",
      "Obs {<D6 3.0>} maps to (None, 'Beatles')\n",
      "Obs {<B7 2.0>} maps to (None, 'Beatles')\n",
      "Obs {<C7 5.0>} maps to (None, 'Beatles')\n",
      "Obs {<D7 5.0>} maps to (None, 'Beatles')\n"
     ]
    }
   ],
   "source": [
    "# Notice that you can set the cellvalueoverride dict in the constructor if you don't \n",
    "# mind having very long statements.  \n",
    "\n",
    "# But in this special case of a constant dimension we have a helper function which \n",
    "# does exactly the same thing\n",
    "h3 = HDim(None, \"Category\", cellvalueoverride={None:\"Beatles\"})\n",
    "h3 = HDimConst(\"Category\", \"Beatles\")\n",
    "for ob in obs:\n",
    "    print(\"Obs\", ob, \"maps to\", h3.cellvalobs(ob))"
   ]
  },
  {
   "cell_type": "code",
   "execution_count": 20,
   "metadata": {
    "collapsed": false
   },
   "outputs": [
    {
     "data": {
      "text/html": [
       "<div id=\"injblock1006\">#injblock1006\n",
       "<style>\n",
       "table.ex, table.exkey { border: thin black solid }\n",
       "table.ex td, table.ex tr { border: none }\n",
       "table.ex td:hover { border: thin blue solid }\n",
       "table.ex td.excOBS:hover { border: thin red solid }\n",
       "table.ex td.selected { border: thick red solid }\n",
       "</style>\n",
       "\n",
       "\n",
       "Table: <b>beatles</b> <table class=\"exkey\">\n",
       "<tr><td class=\"xc0\" style=\"background-color:Aqua\">OBS</td><td class=\"xc1\" style=\"background-color:LightGreen\">TIME</td><td class=\"xc2\" style=\"background-color:MistyRose\">Vehicles</td><td class=\"xc3\" style=\"background-color:LightGray\">Name</td></tr></table>\n",
       "\n",
       "<table class=\"ex\">\n",
       "<tr><td title=\"0 0\">Date</td><td style=\"background-color:LightGreen\" title=\"1 0\">2014.0</td><td title=\"2 0\"></td><td title=\"3 0\"></td></tr>\n",
       "<tr><td title=\"0 1\"></td><td title=\"1 1\"></td><td title=\"2 1\"></td><td title=\"3 1\"></td></tr>\n",
       "<tr><td title=\"0 2\"></td><td style=\"background-color:MistyRose\" title=\"1 2\">Cars</td><td style=\"background-color:MistyRose;font-weight:bold\" title=\"2 2\">Planes</td><td style=\"background-color:MistyRose;font-weight:bold\" title=\"3 2\">Trains</td></tr>\n",
       "<tr><td style=\"background-color:LightGray\" title=\"0 3\">John</td><td style=\"background-color:Aqua\" title=\"1 3\">2.0</td><td style=\"background-color:Aqua\" title=\"2 3\">2.0</td><td style=\"background-color:Aqua\" title=\"3 3\">1.0</td></tr>\n",
       "<tr><td style=\"background-color:LightGray\" title=\"0 4\">Paul</td><td style=\"background-color:Aqua\" title=\"1 4\">4xxxx</td><td style=\"background-color:Aqua\" title=\"2 4\">3.0</td><td style=\"background-color:Aqua\" title=\"3 4\">2.0</td></tr>\n",
       "<tr><td style=\"background-color:LightGray\" title=\"0 5\">Ringo</td><td style=\"background-color:Aqua\" title=\"1 5\">4.0</td><td style=\"background-color:Aqua\" title=\"2 5\">1.0</td><td style=\"background-color:Aqua\" title=\"3 5\">3.0</td></tr>\n",
       "<tr><td style=\"background-color:LightGray\" title=\"0 6\">George</td><td style=\"background-color:Aqua\" title=\"1 6\">2.0</td><td style=\"background-color:Aqua\" title=\"2 6\">5.0</td><td style=\"background-color:Aqua\" title=\"3 6\">5.0</td></tr>\n",
       "</table>\n",
       "\n",
       "</div>\n",
       "\n",
       "<script>\n",
       "var jslookup = {\"2 3\":[1,0,2,2,0,3],\"1 4\":[1,0,1,2,0,4],\"2 6\":[1,0,2,2,0,6],\"2 5\":[1,0,2,2,0,5],\"1 3\":[1,0,1,2,0,3],\"3 6\":[1,0,3,2,0,6],\"3 3\":[1,0,3,2,0,3],\"2 4\":[1,0,2,2,0,4],\"3 5\":[1,0,3,2,0,5],\"1 5\":[1,0,1,2,0,5],\"1 6\":[1,0,1,2,0,6],\"3 4\":[1,0,3,2,0,4]}; \n",
       "var jdividNUM = \"injblock1006\"; \n",
       "var Dclickedcell = null; \n",
       "function clickedcell() \n",
       "{ \n",
       "    Dclickedcell = this; \n",
       "    console.log(\"jjjj\", this); \n",
       "    var rgc = new RegExp('(^|\\b)' + \"selected\".split(' ').join('|') + '(\\b|$)', 'gi'); \n",
       "    Array.prototype.forEach.call(document.querySelectorAll(\"div#\"+jdividNUM+\" table.ex td.selected\"), function(el, i) { \n",
       "        if (el.classList)  el.classList.remove(\"selected\");\n",
       "        else  el.className = el.className.replace(rgc, ' ');\n",
       "    }); \n",
       "    if (this.classList)  this.classList.add(\"selected\");\n",
       "    else this.className += ' ' + \"selected\";\n",
       "\n",
       "    var dimpairs = jslookup[this.title]; \n",
       "    if (dimpairs !== undefined) {\n",
       "        for (var i = 1; i < dimpairs.length; i += 2) {\n",
       "            var row = document.querySelectorAll(\"div#\"+jdividNUM+\" table.ex tr\")[dimpairs[i]]; \n",
       "            var el = row.querySelectorAll(\"td\")[dimpairs[i-1]]; \n",
       "            if (el.classList)  el.classList.add(\"selected\");\n",
       "            else el.className += ' ' + \"selected\";\n",
       "        }\n",
       "    }\n",
       "}\n",
       "Array.prototype.forEach.call(document.querySelectorAll(\"div#\"+jdividNUM+\" table.ex td\"), function(item, i) { item.onclick=clickedcell; }); \n",
       "</script>\n"
      ],
      "text/plain": [
       "<IPython.core.display.HTML object>"
      ]
     },
     "metadata": {},
     "output_type": "display_data"
    }
   ],
   "source": [
    "# Let's put these all together into one list of dimensions and roll them into \n",
    "# nice big ConversionSegment, which we can preview\n",
    "dimensions = [ \n",
    "    HDim(tab.excel_ref('B1'), TIME, CLOSEST, ABOVE), \n",
    "    HDim(r1, \"Vehicles\", DIRECTLY, ABOVE), \n",
    "    HDim(r2, \"Name\", DIRECTLY, LEFT), \n",
    "    HDimConst(\"Category\", \"Beatles\")\n",
    "]\n",
    "c1 = ConversionSegment(tab, dimensions, obs)\n",
    "savepreviewhtml(c1)\n"
   ]
  },
  {
   "cell_type": "code",
   "execution_count": 21,
   "metadata": {
    "collapsed": false
   },
   "outputs": [
    {
     "name": "stdout",
     "output_type": "stream",
     "text": [
      "{'__y': 3, '__tablename': 'beatles', 'TIME': '2014.0', 'Category': 'Beatles', '__x': 1, 'Vehicles': 'Cars', 'OBS': 2.0, 'Name': 'John'}\n",
      "{'__y': 3, '__tablename': 'beatles', 'TIME': '2014.0', 'Category': 'Beatles', '__x': 2, 'Vehicles': 'Planes', 'OBS': 2.0, 'Name': 'John'}\n",
      "{'__y': 3, '__tablename': 'beatles', 'TIME': '2014.0', 'Category': 'Beatles', '__x': 3, 'Vehicles': 'Trains', 'OBS': 1.0, 'Name': 'John'}\n",
      "{'OBS': 4.0, '__y': 4, '__tablename': 'beatles', 'TIME': '2014.0', 'Category': 'Beatles', '__x': 1, 'Vehicles': 'Cars', 'Name': 'Paul', 'DATAMARKER': 'xxxx'}\n",
      "{'__y': 4, '__tablename': 'beatles', 'TIME': '2014.0', 'Category': 'Beatles', '__x': 2, 'Vehicles': 'Planes', 'OBS': 3.0, 'Name': 'Paul'}\n",
      "{'__y': 4, '__tablename': 'beatles', 'TIME': '2014.0', 'Category': 'Beatles', '__x': 3, 'Vehicles': 'Trains', 'OBS': 2.0, 'Name': 'Paul'}\n",
      "{'__y': 5, '__tablename': 'beatles', 'TIME': '2014.0', 'Category': 'Beatles', '__x': 1, 'Vehicles': 'Cars', 'OBS': 4.0, 'Name': 'Ringo'}\n",
      "{'__y': 5, '__tablename': 'beatles', 'TIME': '2014.0', 'Category': 'Beatles', '__x': 2, 'Vehicles': 'Planes', 'OBS': 1.0, 'Name': 'Ringo'}\n",
      "{'__y': 5, '__tablename': 'beatles', 'TIME': '2014.0', 'Category': 'Beatles', '__x': 3, 'Vehicles': 'Trains', 'OBS': 3.0, 'Name': 'Ringo'}\n",
      "{'__y': 6, '__tablename': 'beatles', 'TIME': '2014.0', 'Category': 'Beatles', '__x': 1, 'Vehicles': 'Cars', 'OBS': 2.0, 'Name': 'George'}\n",
      "{'__y': 6, '__tablename': 'beatles', 'TIME': '2014.0', 'Category': 'Beatles', '__x': 2, 'Vehicles': 'Planes', 'OBS': 5.0, 'Name': 'George'}\n",
      "{'__y': 6, '__tablename': 'beatles', 'TIME': '2014.0', 'Category': 'Beatles', '__x': 3, 'Vehicles': 'Trains', 'OBS': 5.0, 'Name': 'George'}\n"
     ]
    }
   ],
   "source": [
    "# Try clicking on the OBS cells above to see how the cells connect to the headings\n",
    "\n",
    "# Sometimes it's useful to see the raw values as they are looked up\n",
    "for ob in c1.segment:\n",
    "    print(c1.lookupobs(ob))"
   ]
  },
  {
   "cell_type": "code",
   "execution_count": 22,
   "metadata": {
    "collapsed": false
   },
   "outputs": [
    {
     "name": "stdout",
     "output_type": "stream",
     "text": [
      "TIMEUNIT='Year'\n"
     ]
    },
    {
     "data": {
      "text/html": [
       "<div>\n",
       "<table border=\"1\" class=\"dataframe\">\n",
       "  <thead>\n",
       "    <tr style=\"text-align: right;\">\n",
       "      <th></th>\n",
       "      <th>OBS</th>\n",
       "      <th>DATAMARKER</th>\n",
       "      <th>TIME</th>\n",
       "      <th>TIMEUNIT</th>\n",
       "      <th>Vehicles</th>\n",
       "      <th>Name</th>\n",
       "      <th>Category</th>\n",
       "      <th>__x</th>\n",
       "      <th>__y</th>\n",
       "      <th>__tablename</th>\n",
       "    </tr>\n",
       "  </thead>\n",
       "  <tbody>\n",
       "    <tr>\n",
       "      <th>0</th>\n",
       "      <td>2.0</td>\n",
       "      <td>NaN</td>\n",
       "      <td>2014</td>\n",
       "      <td>Year</td>\n",
       "      <td>Cars</td>\n",
       "      <td>John</td>\n",
       "      <td>Beatles</td>\n",
       "      <td>1</td>\n",
       "      <td>3</td>\n",
       "      <td>beatles</td>\n",
       "    </tr>\n",
       "    <tr>\n",
       "      <th>1</th>\n",
       "      <td>2.0</td>\n",
       "      <td>NaN</td>\n",
       "      <td>2014</td>\n",
       "      <td>Year</td>\n",
       "      <td>Planes</td>\n",
       "      <td>John</td>\n",
       "      <td>Beatles</td>\n",
       "      <td>2</td>\n",
       "      <td>3</td>\n",
       "      <td>beatles</td>\n",
       "    </tr>\n",
       "    <tr>\n",
       "      <th>2</th>\n",
       "      <td>1.0</td>\n",
       "      <td>NaN</td>\n",
       "      <td>2014</td>\n",
       "      <td>Year</td>\n",
       "      <td>Trains</td>\n",
       "      <td>John</td>\n",
       "      <td>Beatles</td>\n",
       "      <td>3</td>\n",
       "      <td>3</td>\n",
       "      <td>beatles</td>\n",
       "    </tr>\n",
       "    <tr>\n",
       "      <th>3</th>\n",
       "      <td>4.0</td>\n",
       "      <td>xxxx</td>\n",
       "      <td>2014</td>\n",
       "      <td>Year</td>\n",
       "      <td>Cars</td>\n",
       "      <td>Paul</td>\n",
       "      <td>Beatles</td>\n",
       "      <td>1</td>\n",
       "      <td>4</td>\n",
       "      <td>beatles</td>\n",
       "    </tr>\n",
       "    <tr>\n",
       "      <th>4</th>\n",
       "      <td>3.0</td>\n",
       "      <td>NaN</td>\n",
       "      <td>2014</td>\n",
       "      <td>Year</td>\n",
       "      <td>Planes</td>\n",
       "      <td>Paul</td>\n",
       "      <td>Beatles</td>\n",
       "      <td>2</td>\n",
       "      <td>4</td>\n",
       "      <td>beatles</td>\n",
       "    </tr>\n",
       "    <tr>\n",
       "      <th>5</th>\n",
       "      <td>2.0</td>\n",
       "      <td>NaN</td>\n",
       "      <td>2014</td>\n",
       "      <td>Year</td>\n",
       "      <td>Trains</td>\n",
       "      <td>Paul</td>\n",
       "      <td>Beatles</td>\n",
       "      <td>3</td>\n",
       "      <td>4</td>\n",
       "      <td>beatles</td>\n",
       "    </tr>\n",
       "    <tr>\n",
       "      <th>6</th>\n",
       "      <td>4.0</td>\n",
       "      <td>NaN</td>\n",
       "      <td>2014</td>\n",
       "      <td>Year</td>\n",
       "      <td>Cars</td>\n",
       "      <td>Ringo</td>\n",
       "      <td>Beatles</td>\n",
       "      <td>1</td>\n",
       "      <td>5</td>\n",
       "      <td>beatles</td>\n",
       "    </tr>\n",
       "    <tr>\n",
       "      <th>7</th>\n",
       "      <td>1.0</td>\n",
       "      <td>NaN</td>\n",
       "      <td>2014</td>\n",
       "      <td>Year</td>\n",
       "      <td>Planes</td>\n",
       "      <td>Ringo</td>\n",
       "      <td>Beatles</td>\n",
       "      <td>2</td>\n",
       "      <td>5</td>\n",
       "      <td>beatles</td>\n",
       "    </tr>\n",
       "    <tr>\n",
       "      <th>8</th>\n",
       "      <td>3.0</td>\n",
       "      <td>NaN</td>\n",
       "      <td>2014</td>\n",
       "      <td>Year</td>\n",
       "      <td>Trains</td>\n",
       "      <td>Ringo</td>\n",
       "      <td>Beatles</td>\n",
       "      <td>3</td>\n",
       "      <td>5</td>\n",
       "      <td>beatles</td>\n",
       "    </tr>\n",
       "    <tr>\n",
       "      <th>9</th>\n",
       "      <td>2.0</td>\n",
       "      <td>NaN</td>\n",
       "      <td>2014</td>\n",
       "      <td>Year</td>\n",
       "      <td>Cars</td>\n",
       "      <td>George</td>\n",
       "      <td>Beatles</td>\n",
       "      <td>1</td>\n",
       "      <td>6</td>\n",
       "      <td>beatles</td>\n",
       "    </tr>\n",
       "    <tr>\n",
       "      <th>10</th>\n",
       "      <td>5.0</td>\n",
       "      <td>NaN</td>\n",
       "      <td>2014</td>\n",
       "      <td>Year</td>\n",
       "      <td>Planes</td>\n",
       "      <td>George</td>\n",
       "      <td>Beatles</td>\n",
       "      <td>2</td>\n",
       "      <td>6</td>\n",
       "      <td>beatles</td>\n",
       "    </tr>\n",
       "    <tr>\n",
       "      <th>11</th>\n",
       "      <td>5.0</td>\n",
       "      <td>NaN</td>\n",
       "      <td>2014</td>\n",
       "      <td>Year</td>\n",
       "      <td>Trains</td>\n",
       "      <td>George</td>\n",
       "      <td>Beatles</td>\n",
       "      <td>3</td>\n",
       "      <td>6</td>\n",
       "      <td>beatles</td>\n",
       "    </tr>\n",
       "  </tbody>\n",
       "</table>\n",
       "</div>"
      ],
      "text/plain": [
       "    OBS DATAMARKER  TIME TIMEUNIT Vehicles    Name Category  __x  __y  \\\n",
       "0   2.0        NaN  2014     Year     Cars    John  Beatles    1    3   \n",
       "1   2.0        NaN  2014     Year   Planes    John  Beatles    2    3   \n",
       "2   1.0        NaN  2014     Year   Trains    John  Beatles    3    3   \n",
       "3   4.0       xxxx  2014     Year     Cars    Paul  Beatles    1    4   \n",
       "4   3.0        NaN  2014     Year   Planes    Paul  Beatles    2    4   \n",
       "5   2.0        NaN  2014     Year   Trains    Paul  Beatles    3    4   \n",
       "6   4.0        NaN  2014     Year     Cars   Ringo  Beatles    1    5   \n",
       "7   1.0        NaN  2014     Year   Planes   Ringo  Beatles    2    5   \n",
       "8   3.0        NaN  2014     Year   Trains   Ringo  Beatles    3    5   \n",
       "9   2.0        NaN  2014     Year     Cars  George  Beatles    1    6   \n",
       "10  5.0        NaN  2014     Year   Planes  George  Beatles    2    6   \n",
       "11  5.0        NaN  2014     Year   Trains  George  Beatles    3    6   \n",
       "\n",
       "   __tablename  \n",
       "0      beatles  \n",
       "1      beatles  \n",
       "2      beatles  \n",
       "3      beatles  \n",
       "4      beatles  \n",
       "5      beatles  \n",
       "6      beatles  \n",
       "7      beatles  \n",
       "8      beatles  \n",
       "9      beatles  \n",
       "10     beatles  \n",
       "11     beatles  "
      ]
     },
     "execution_count": 22,
     "metadata": {},
     "output_type": "execute_result"
    }
   ],
   "source": [
    "# If you want to use pandas on this ConversionSegment, we have a handy function that does it\n",
    "# (Pandas is very hard to learn, but very powerful indeed.  If you are going to be doing things \n",
    "# with data as part of your work for more than a year, it will pay back oodles if you \n",
    "# invest the time to master it.)\n",
    "df = c1.topandas()\n",
    "df\n"
   ]
  },
  {
   "cell_type": "code",
   "execution_count": 25,
   "metadata": {
    "collapsed": false
   },
   "outputs": [
    {
     "name": "stdout",
     "output_type": "stream",
     "text": [
      "\n",
      "writing 1 conversion segments into /home/goatchurch/sensiblecode/src/databaker/databaker/tutorial/example.csv\n",
      "conversionwrite segment size 12 table 'beatles; \n"
     ]
    },
    {
     "data": {
      "text/html": [
       "<div>\n",
       "<table border=\"1\" class=\"dataframe\">\n",
       "  <thead>\n",
       "    <tr style=\"text-align: right;\">\n",
       "      <th></th>\n",
       "      <th>OBS</th>\n",
       "      <th>DATAMARKER</th>\n",
       "      <th>TIME</th>\n",
       "      <th>TIMEUNIT</th>\n",
       "      <th>Vehicles</th>\n",
       "      <th>Name</th>\n",
       "      <th>Category</th>\n",
       "      <th>__x</th>\n",
       "      <th>__y</th>\n",
       "      <th>__tablename</th>\n",
       "    </tr>\n",
       "  </thead>\n",
       "  <tbody>\n",
       "    <tr>\n",
       "      <th>0</th>\n",
       "      <td>2.0</td>\n",
       "      <td>NaN</td>\n",
       "      <td>2014</td>\n",
       "      <td>Year</td>\n",
       "      <td>Cars</td>\n",
       "      <td>John</td>\n",
       "      <td>Beatles</td>\n",
       "      <td>1</td>\n",
       "      <td>3</td>\n",
       "      <td>beatles</td>\n",
       "    </tr>\n",
       "    <tr>\n",
       "      <th>1</th>\n",
       "      <td>2.0</td>\n",
       "      <td>NaN</td>\n",
       "      <td>2014</td>\n",
       "      <td>Year</td>\n",
       "      <td>Planes</td>\n",
       "      <td>John</td>\n",
       "      <td>Beatles</td>\n",
       "      <td>2</td>\n",
       "      <td>3</td>\n",
       "      <td>beatles</td>\n",
       "    </tr>\n",
       "    <tr>\n",
       "      <th>2</th>\n",
       "      <td>1.0</td>\n",
       "      <td>NaN</td>\n",
       "      <td>2014</td>\n",
       "      <td>Year</td>\n",
       "      <td>Trains</td>\n",
       "      <td>John</td>\n",
       "      <td>Beatles</td>\n",
       "      <td>3</td>\n",
       "      <td>3</td>\n",
       "      <td>beatles</td>\n",
       "    </tr>\n",
       "    <tr>\n",
       "      <th>3</th>\n",
       "      <td>4.0</td>\n",
       "      <td>xxxx</td>\n",
       "      <td>2014</td>\n",
       "      <td>Year</td>\n",
       "      <td>Cars</td>\n",
       "      <td>Paul</td>\n",
       "      <td>Beatles</td>\n",
       "      <td>1</td>\n",
       "      <td>4</td>\n",
       "      <td>beatles</td>\n",
       "    </tr>\n",
       "    <tr>\n",
       "      <th>4</th>\n",
       "      <td>3.0</td>\n",
       "      <td>NaN</td>\n",
       "      <td>2014</td>\n",
       "      <td>Year</td>\n",
       "      <td>Planes</td>\n",
       "      <td>Paul</td>\n",
       "      <td>Beatles</td>\n",
       "      <td>2</td>\n",
       "      <td>4</td>\n",
       "      <td>beatles</td>\n",
       "    </tr>\n",
       "    <tr>\n",
       "      <th>5</th>\n",
       "      <td>2.0</td>\n",
       "      <td>NaN</td>\n",
       "      <td>2014</td>\n",
       "      <td>Year</td>\n",
       "      <td>Trains</td>\n",
       "      <td>Paul</td>\n",
       "      <td>Beatles</td>\n",
       "      <td>3</td>\n",
       "      <td>4</td>\n",
       "      <td>beatles</td>\n",
       "    </tr>\n",
       "    <tr>\n",
       "      <th>6</th>\n",
       "      <td>4.0</td>\n",
       "      <td>NaN</td>\n",
       "      <td>2014</td>\n",
       "      <td>Year</td>\n",
       "      <td>Cars</td>\n",
       "      <td>Ringo</td>\n",
       "      <td>Beatles</td>\n",
       "      <td>1</td>\n",
       "      <td>5</td>\n",
       "      <td>beatles</td>\n",
       "    </tr>\n",
       "    <tr>\n",
       "      <th>7</th>\n",
       "      <td>1.0</td>\n",
       "      <td>NaN</td>\n",
       "      <td>2014</td>\n",
       "      <td>Year</td>\n",
       "      <td>Planes</td>\n",
       "      <td>Ringo</td>\n",
       "      <td>Beatles</td>\n",
       "      <td>2</td>\n",
       "      <td>5</td>\n",
       "      <td>beatles</td>\n",
       "    </tr>\n",
       "    <tr>\n",
       "      <th>8</th>\n",
       "      <td>3.0</td>\n",
       "      <td>NaN</td>\n",
       "      <td>2014</td>\n",
       "      <td>Year</td>\n",
       "      <td>Trains</td>\n",
       "      <td>Ringo</td>\n",
       "      <td>Beatles</td>\n",
       "      <td>3</td>\n",
       "      <td>5</td>\n",
       "      <td>beatles</td>\n",
       "    </tr>\n",
       "    <tr>\n",
       "      <th>9</th>\n",
       "      <td>2.0</td>\n",
       "      <td>NaN</td>\n",
       "      <td>2014</td>\n",
       "      <td>Year</td>\n",
       "      <td>Cars</td>\n",
       "      <td>George</td>\n",
       "      <td>Beatles</td>\n",
       "      <td>1</td>\n",
       "      <td>6</td>\n",
       "      <td>beatles</td>\n",
       "    </tr>\n",
       "    <tr>\n",
       "      <th>10</th>\n",
       "      <td>5.0</td>\n",
       "      <td>NaN</td>\n",
       "      <td>2014</td>\n",
       "      <td>Year</td>\n",
       "      <td>Planes</td>\n",
       "      <td>George</td>\n",
       "      <td>Beatles</td>\n",
       "      <td>2</td>\n",
       "      <td>6</td>\n",
       "      <td>beatles</td>\n",
       "    </tr>\n",
       "    <tr>\n",
       "      <th>11</th>\n",
       "      <td>5.0</td>\n",
       "      <td>NaN</td>\n",
       "      <td>2014</td>\n",
       "      <td>Year</td>\n",
       "      <td>Trains</td>\n",
       "      <td>George</td>\n",
       "      <td>Beatles</td>\n",
       "      <td>3</td>\n",
       "      <td>6</td>\n",
       "      <td>beatles</td>\n",
       "    </tr>\n",
       "  </tbody>\n",
       "</table>\n",
       "</div>"
      ],
      "text/plain": [
       "    OBS DATAMARKER  TIME TIMEUNIT Vehicles    Name Category  __x  __y  \\\n",
       "0   2.0        NaN  2014     Year     Cars    John  Beatles    1    3   \n",
       "1   2.0        NaN  2014     Year   Planes    John  Beatles    2    3   \n",
       "2   1.0        NaN  2014     Year   Trains    John  Beatles    3    3   \n",
       "3   4.0       xxxx  2014     Year     Cars    Paul  Beatles    1    4   \n",
       "4   3.0        NaN  2014     Year   Planes    Paul  Beatles    2    4   \n",
       "5   2.0        NaN  2014     Year   Trains    Paul  Beatles    3    4   \n",
       "6   4.0        NaN  2014     Year     Cars   Ringo  Beatles    1    5   \n",
       "7   1.0        NaN  2014     Year   Planes   Ringo  Beatles    2    5   \n",
       "8   3.0        NaN  2014     Year   Trains   Ringo  Beatles    3    5   \n",
       "9   2.0        NaN  2014     Year     Cars  George  Beatles    1    6   \n",
       "10  5.0        NaN  2014     Year   Planes  George  Beatles    2    6   \n",
       "11  5.0        NaN  2014     Year   Trains  George  Beatles    3    6   \n",
       "\n",
       "   __tablename  \n",
       "0      beatles  \n",
       "1      beatles  \n",
       "2      beatles  \n",
       "3      beatles  \n",
       "4      beatles  \n",
       "5      beatles  \n",
       "6      beatles  \n",
       "7      beatles  \n",
       "8      beatles  \n",
       "9      beatles  \n",
       "10     beatles  \n",
       "11     beatles  "
      ]
     },
     "execution_count": 25,
     "metadata": {},
     "output_type": "execute_result"
    }
   ],
   "source": [
    "# Once we are done with the lookups, we can generate the technicalCSV for the WDA system\n",
    "pL = c1.topandas()\n",
    "L = writetechnicalCSV(None, c1).split(\"\\n\")\n",
    "#print(L)\n",
    "Lp = writetechnicalCSV(None, pL).split(\"\\n\")\n",
    "L == Lp\n",
    "writetechnicalCSV(\"example.csv\", c1)\n",
    "k = readtechnicalCSV(\"example.csv\")\n",
    "k[0]\n",
    "pL"
   ]
  },
  {
   "cell_type": "code",
   "execution_count": 24,
   "metadata": {
    "collapsed": false
   },
   "outputs": [
    {
     "name": "stdout",
     "output_type": "stream",
     "text": [
      "writing 1 conversion segments into /home/goatchurch/sensiblecode/src/databaker/databaker/tutorial/example.csv\n",
      "conversionwrite segment size 12 table 'beatles; \n"
     ]
    }
   ],
   "source": [
    "# We almost always write this output to a file because the preview is so big and ugly\n",
    "# You can replace the c1 with a list of ConversionSegments\n",
    "writetechnicalCSV(\"example.csv\", c1)\n",
    "\n",
    "\n"
   ]
  },
  {
   "cell_type": "code",
   "execution_count": 25,
   "metadata": {
    "collapsed": false
   },
   "outputs": [
    {
     "name": "stdout",
     "output_type": "stream",
     "text": [
      "tablepart 'beatles' written #injblock1007\n",
      "javascript calculated\n"
     ]
    },
    {
     "data": {
      "text/html": [
       "Written to file <a href=\"file:///home/goatchurch/sensiblecode/src/databaker/databaker/tutorial/preview.html\" title=\"It would work if this linked to something like: http://localhost:8888/files/ILCH/preview.html\" >/home/goatchurch/sensiblecode/src/databaker/databaker/tutorial/preview.html</a>"
      ],
      "text/plain": [
       "<IPython.core.display.HTML object>"
      ]
     },
     "metadata": {},
     "output_type": "display_data"
    }
   ],
   "source": [
    "# You can save preview tables to a file as well, but it can only be of a single segment\n",
    "# The #injblockXXXX thing is shown at the top of the file to help you make sure you are seeing\n",
    "# the right preview, and not some earlier version.  \n",
    "# (We'd like to make the link work, but it's difficult.  Also it would be nice if the page \n",
    "# you had automatically reloaded itself if it was already open, in order to cut down on the RSI)\n",
    "savepreviewhtml(c1, \"preview.html\")"
   ]
  },
  {
   "cell_type": "code",
   "execution_count": 26,
   "metadata": {
    "collapsed": false
   },
   "outputs": [
    {
     "data": {
      "text/html": [
       "<div>\n",
       "<table border=\"1\" class=\"dataframe\">\n",
       "  <thead>\n",
       "    <tr style=\"text-align: right;\">\n",
       "      <th></th>\n",
       "      <th>Category</th>\n",
       "      <th>DATAMARKER</th>\n",
       "      <th>Name</th>\n",
       "      <th>OBS</th>\n",
       "      <th>TIME</th>\n",
       "      <th>TIMEUNIT</th>\n",
       "      <th>Vehicles</th>\n",
       "      <th>tabname</th>\n",
       "      <th>x</th>\n",
       "      <th>y</th>\n",
       "    </tr>\n",
       "  </thead>\n",
       "  <tbody>\n",
       "    <tr>\n",
       "      <th>0</th>\n",
       "      <td>Beatles</td>\n",
       "      <td>NaN</td>\n",
       "      <td>John</td>\n",
       "      <td>1.0</td>\n",
       "      <td>2014-01-01</td>\n",
       "      <td>Year</td>\n",
       "      <td>Trains</td>\n",
       "      <td>beatles</td>\n",
       "      <td>3</td>\n",
       "      <td>3</td>\n",
       "    </tr>\n",
       "    <tr>\n",
       "      <th>1</th>\n",
       "      <td>Beatles</td>\n",
       "      <td>NaN</td>\n",
       "      <td>Ringo</td>\n",
       "      <td>1.0</td>\n",
       "      <td>2014-01-01</td>\n",
       "      <td>Year</td>\n",
       "      <td>Planes</td>\n",
       "      <td>beatles</td>\n",
       "      <td>2</td>\n",
       "      <td>5</td>\n",
       "    </tr>\n",
       "    <tr>\n",
       "      <th>2</th>\n",
       "      <td>Beatles</td>\n",
       "      <td>NaN</td>\n",
       "      <td>John</td>\n",
       "      <td>2.0</td>\n",
       "      <td>2014-01-01</td>\n",
       "      <td>Year</td>\n",
       "      <td>Cars</td>\n",
       "      <td>beatles</td>\n",
       "      <td>1</td>\n",
       "      <td>3</td>\n",
       "    </tr>\n",
       "    <tr>\n",
       "      <th>3</th>\n",
       "      <td>Beatles</td>\n",
       "      <td>NaN</td>\n",
       "      <td>Paul</td>\n",
       "      <td>2.0</td>\n",
       "      <td>2014-01-01</td>\n",
       "      <td>Year</td>\n",
       "      <td>Trains</td>\n",
       "      <td>beatles</td>\n",
       "      <td>3</td>\n",
       "      <td>4</td>\n",
       "    </tr>\n",
       "    <tr>\n",
       "      <th>4</th>\n",
       "      <td>Beatles</td>\n",
       "      <td>NaN</td>\n",
       "      <td>George</td>\n",
       "      <td>2.0</td>\n",
       "      <td>2014-01-01</td>\n",
       "      <td>Year</td>\n",
       "      <td>Cars</td>\n",
       "      <td>beatles</td>\n",
       "      <td>1</td>\n",
       "      <td>6</td>\n",
       "    </tr>\n",
       "    <tr>\n",
       "      <th>5</th>\n",
       "      <td>Beatles</td>\n",
       "      <td>NaN</td>\n",
       "      <td>John</td>\n",
       "      <td>2.0</td>\n",
       "      <td>2014-01-01</td>\n",
       "      <td>Year</td>\n",
       "      <td>Planes</td>\n",
       "      <td>beatles</td>\n",
       "      <td>2</td>\n",
       "      <td>3</td>\n",
       "    </tr>\n",
       "    <tr>\n",
       "      <th>6</th>\n",
       "      <td>Beatles</td>\n",
       "      <td>NaN</td>\n",
       "      <td>Paul</td>\n",
       "      <td>3.0</td>\n",
       "      <td>2014-01-01</td>\n",
       "      <td>Year</td>\n",
       "      <td>Planes</td>\n",
       "      <td>beatles</td>\n",
       "      <td>2</td>\n",
       "      <td>4</td>\n",
       "    </tr>\n",
       "    <tr>\n",
       "      <th>7</th>\n",
       "      <td>Beatles</td>\n",
       "      <td>NaN</td>\n",
       "      <td>Ringo</td>\n",
       "      <td>3.0</td>\n",
       "      <td>2014-01-01</td>\n",
       "      <td>Year</td>\n",
       "      <td>Trains</td>\n",
       "      <td>beatles</td>\n",
       "      <td>3</td>\n",
       "      <td>5</td>\n",
       "    </tr>\n",
       "    <tr>\n",
       "      <th>8</th>\n",
       "      <td>Beatles</td>\n",
       "      <td>NaN</td>\n",
       "      <td>Ringo</td>\n",
       "      <td>4.0</td>\n",
       "      <td>2014-01-01</td>\n",
       "      <td>Year</td>\n",
       "      <td>Cars</td>\n",
       "      <td>beatles</td>\n",
       "      <td>1</td>\n",
       "      <td>5</td>\n",
       "    </tr>\n",
       "    <tr>\n",
       "      <th>9</th>\n",
       "      <td>Beatles</td>\n",
       "      <td>xxxx</td>\n",
       "      <td>Paul</td>\n",
       "      <td>4.0</td>\n",
       "      <td>2014-01-01</td>\n",
       "      <td>Year</td>\n",
       "      <td>Cars</td>\n",
       "      <td>beatles</td>\n",
       "      <td>1</td>\n",
       "      <td>4</td>\n",
       "    </tr>\n",
       "    <tr>\n",
       "      <th>10</th>\n",
       "      <td>Beatles</td>\n",
       "      <td>NaN</td>\n",
       "      <td>George</td>\n",
       "      <td>5.0</td>\n",
       "      <td>2014-01-01</td>\n",
       "      <td>Year</td>\n",
       "      <td>Trains</td>\n",
       "      <td>beatles</td>\n",
       "      <td>3</td>\n",
       "      <td>6</td>\n",
       "    </tr>\n",
       "    <tr>\n",
       "      <th>11</th>\n",
       "      <td>Beatles</td>\n",
       "      <td>NaN</td>\n",
       "      <td>George</td>\n",
       "      <td>5.0</td>\n",
       "      <td>2014-01-01</td>\n",
       "      <td>Year</td>\n",
       "      <td>Planes</td>\n",
       "      <td>beatles</td>\n",
       "      <td>2</td>\n",
       "      <td>6</td>\n",
       "    </tr>\n",
       "  </tbody>\n",
       "</table>\n",
       "</div>"
      ],
      "text/plain": [
       "   Category DATAMARKER    Name  OBS       TIME TIMEUNIT Vehicles  tabname  x  \\\n",
       "0   Beatles        NaN    John  1.0 2014-01-01     Year   Trains  beatles  3   \n",
       "1   Beatles        NaN   Ringo  1.0 2014-01-01     Year   Planes  beatles  2   \n",
       "2   Beatles        NaN    John  2.0 2014-01-01     Year     Cars  beatles  1   \n",
       "3   Beatles        NaN    Paul  2.0 2014-01-01     Year   Trains  beatles  3   \n",
       "4   Beatles        NaN  George  2.0 2014-01-01     Year     Cars  beatles  1   \n",
       "5   Beatles        NaN    John  2.0 2014-01-01     Year   Planes  beatles  2   \n",
       "6   Beatles        NaN    Paul  3.0 2014-01-01     Year   Planes  beatles  2   \n",
       "7   Beatles        NaN   Ringo  3.0 2014-01-01     Year   Trains  beatles  3   \n",
       "8   Beatles        NaN   Ringo  4.0 2014-01-01     Year     Cars  beatles  1   \n",
       "9   Beatles       xxxx    Paul  4.0 2014-01-01     Year     Cars  beatles  1   \n",
       "10  Beatles        NaN  George  5.0 2014-01-01     Year   Trains  beatles  3   \n",
       "11  Beatles        NaN  George  5.0 2014-01-01     Year   Planes  beatles  2   \n",
       "\n",
       "    y  \n",
       "0   3  \n",
       "1   5  \n",
       "2   3  \n",
       "3   4  \n",
       "4   6  \n",
       "5   3  \n",
       "6   4  \n",
       "7   5  \n",
       "8   5  \n",
       "9   4  \n",
       "10  6  \n",
       "11  6  "
      ]
     },
     "execution_count": 26,
     "metadata": {},
     "output_type": "execute_result"
    }
   ],
   "source": [
    "# In summary, we have the capability of codelookups and nolookups with the cellvalueoverride dict\n",
    "# We can look at individual observations and filter them.  \n",
    "# You can also use a list instead of a bag when you make a conversion set, \n",
    "# and then sort that list\n",
    "\n",
    "obslist = list(obs.unordered_cells)  # list(segment) otherwise gives bags of one element\n",
    "obslist.sort(key=lambda cell: str(cell.value))\n",
    "c2 = ConversionSegment(tab, dimensions, obslist)\n",
    "topandas(c2)\n"
   ]
  },
  {
   "cell_type": "code",
   "execution_count": 27,
   "metadata": {
    "collapsed": true
   },
   "outputs": [],
   "source": [
    "# It's also obvious to see how to make load in multiple spreadsheets\n",
    "# as well as output multiple files, by making multiple calls to\n",
    "#    loadxlstabs(inputfilename)\n",
    "#    writetechnicalCSV(outputfilename, [selected list of segments])\n",
    "# with all the HDim, HDimConst and ConversionSegment creation stuff \n",
    "# in between.  \n",
    "\n",
    "# But it's going to take some working out of conventions and habits \n",
    "# in order to avoid getting into a mess.  \n",
    "\n",
    "# The main part of the design is to make it easy to preview what's going \n",
    "# on at every step of the way, which means you'll want to load everything \n",
    "# in at the start, and save everything out at the end.\n",
    "\n",
    "# Unfortunately this is very memory intensive and might not work on the \n",
    "# largest sets of files.  However, a working system that is close to \n",
    "# that as possible is desirable, to avoid producing \"efficient pipelines\" \n",
    "# of data processing that are going to be a right pain to debug when you \n",
    "# come back to it.  "
   ]
  },
  {
   "cell_type": "markdown",
   "metadata": {
    "collapsed": true
   },
   "source": [
    "If you like, proceed to [Tutorial 2.5](tutorial2.5.ipynb)."
   ]
  },
  {
   "cell_type": "code",
   "execution_count": null,
   "metadata": {
    "collapsed": true
   },
   "outputs": [],
   "source": []
  }
 ],
 "metadata": {
  "kernelspec": {
   "display_name": "Python 3",
   "language": "python",
   "name": "python3"
  },
  "language_info": {
   "codemirror_mode": {
    "name": "ipython",
    "version": 3
   },
   "file_extension": ".py",
   "mimetype": "text/x-python",
   "name": "python",
   "nbconvert_exporter": "python",
   "pygments_lexer": "ipython3",
   "version": "3.5.2"
  }
 },
 "nbformat": 4,
 "nbformat_minor": 1
}
