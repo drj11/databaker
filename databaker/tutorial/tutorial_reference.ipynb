{
 "cells": [
  {
   "cell_type": "markdown",
   "metadata": {},
   "source": [
    "# Function reference\n",
    "\n",
    "\n",
    "*NB: This documentation has been carried over from the pre-Jupyter databaker, and expanded on here using runnable code examples. Some of this documentation may not be current.*"
   ]
  },
  {
   "cell_type": "code",
   "execution_count": 91,
   "metadata": {
    "collapsed": false
   },
   "outputs": [],
   "source": [
    "from databaker.framework import *"
   ]
  },
  {
   "cell_type": "code",
   "execution_count": 92,
   "metadata": {
    "collapsed": false
   },
   "outputs": [
    {
     "name": "stdout",
     "output_type": "stream",
     "text": [
      "Loading example1.xls which has size 7168 bytes\n",
      "Table names: ['beatles', 'stones']\n"
     ]
    }
   ],
   "source": [
    "# put your input-output files here\n",
    "inputfile = \"example1.xls\"\n",
    "outputfile = \"example1.csv\"\n",
    "previewfile = \"preview.html\"\n",
    "\n",
    "tabs = loadxlstabs(inputfile)"
   ]
  },
  {
   "cell_type": "code",
   "execution_count": 93,
   "metadata": {
    "collapsed": false
   },
   "outputs": [],
   "source": [
    "beatles = tabs[0]"
   ]
  },
  {
   "cell_type": "markdown",
   "metadata": {},
   "source": [
    "## Constants\n",
    "\n",
    "### Directions\n",
    "\n",
    "ABOVE (synonym for UP), BELOW (synonym for DOWN), LEFT, RIGHT"
   ]
  },
  {
   "cell_type": "markdown",
   "metadata": {},
   "source": [
    "### Special dimensions\n",
    "\n",
    "* OBS is an observation, a particular piece of data.\n",
    "* DATAMARKER refer to footnote-like things, for example `(a)` to refer\n",
    "  to approximate data.\n",
    "* GEOG is the GSS code, e.g. `E04001323`.\n",
    "* TIME specifies the period, e.g. a year, month or quarter for which the\n",
    "  observation applies, e.g. `Feb-Apr 1971`.\n",
    "* TIMEUNIT is the length of the time period, e.g. `Quarter`.\n",
    "* Also STATPOP, UNITOFMEASURE, UNITMULTIPLIER, MEASURETYPE, STATUNIT."
   ]
  },
  {
   "cell_type": "markdown",
   "metadata": {},
   "source": [
    "### Selection specifiers\n",
    "\n",
    "How we get from observations to headers:\n",
    "\n",
    "* CLOSEST (gets the *first* cell in the same column or row as the\n",
    "  observation in a specified direction);\n",
    "* DIRECTLY (gets the *closest* cell in the same column or row as the\n",
    "  observation in a specified direction)."
   ]
  },
  {
   "cell_type": "markdown",
   "metadata": {
    "collapsed": true
   },
   "source": [
    "## Bags\n",
    "\n",
    "### Set operators\n",
    "\n",
    "Bags are 'sets' of cells - and you can treat them just like Python sets.\n",
    "\n",
    "Specifically, you can use:\n",
    "\n",
    "```python\n",
    "newbag = bigbag | bag_of_cells_we_want  # also .union\n",
    "newbag = bigbag - bag_of_cells_we_dont  # also .difference\n",
    "newbag = bag & other_bag                # also .intersection\n",
    "```\n",
    "\n",
    "\n",
    "![Bags as sets example](set.jpeg)"
   ]
  },
  {
   "cell_type": "code",
   "execution_count": 94,
   "metadata": {
    "collapsed": false,
    "scrolled": true
   },
   "outputs": [
    {
     "data": {
      "text/html": [
       "<div id=\"injblock1036\">#injblock1036\n",
       "<style>\n",
       "table.ex, table.exkey { border: thin black solid }\n",
       "table.ex td, table.ex tr { border: none }\n",
       "table.ex td:hover { border: thin blue solid }\n",
       "table.ex td.excOBS:hover { border: thin red solid }\n",
       "table.ex td.selected { border: thick red solid }\n",
       "</style>\n",
       "\n",
       "\n",
       "Table: <b>beatles</b> <table class=\"exkey\">\n",
       "<tr><td class=\"xc0\" style=\"background-color:Aqua\">item 0</td></tr></table>\n",
       "\n",
       "<table class=\"ex\">\n",
       "<tr><td title=\"0 0\">Date</td><td title=\"1 0\">2014.0</td><td title=\"2 0\"></td><td title=\"3 0\"></td></tr>\n",
       "<tr><td title=\"0 1\"></td><td title=\"1 1\"></td><td title=\"2 1\"></td><td title=\"3 1\"></td></tr>\n",
       "<tr><td title=\"0 2\"></td><td title=\"1 2\">Cars</td><td style=\"font-weight:bold\" title=\"2 2\">Planes</td><td style=\"font-weight:bold\" title=\"3 2\">Trains</td></tr>\n",
       "<tr><td title=\"0 3\">John</td><td style=\"background-color:Aqua\" title=\"1 3\">2.0</td><td style=\"background-color:Aqua\" title=\"2 3\">2.0</td><td style=\"background-color:Aqua\" title=\"3 3\">1.0</td></tr>\n",
       "<tr><td title=\"0 4\">Paul</td><td style=\"background-color:Aqua\" title=\"1 4\">4.0</td><td style=\"background-color:Aqua\" title=\"2 4\">3.0</td><td style=\"background-color:Aqua\" title=\"3 4\">2.0</td></tr>\n",
       "<tr><td title=\"0 5\">Ringo</td><td style=\"background-color:Aqua\" title=\"1 5\">4.0</td><td style=\"background-color:Aqua\" title=\"2 5\">1.0</td><td style=\"background-color:Aqua\" title=\"3 5\">3.0</td></tr>\n",
       "<tr><td title=\"0 6\">George</td><td style=\"background-color:Aqua\" title=\"1 6\">2.0</td><td style=\"background-color:Aqua\" title=\"2 6\">5.0</td><td style=\"background-color:Aqua\" title=\"3 6\">5.0</td></tr>\n",
       "</table>\n",
       "\n",
       "</div>\n"
      ],
      "text/plain": [
       "<IPython.core.display.HTML object>"
      ]
     },
     "metadata": {},
     "output_type": "display_data"
    }
   ],
   "source": [
    "# Difference between bags — bag_a - bag_b — gives the cells in bag_a, but not in bag_b.\n",
    "\n",
    "# NB: This isn't the simplest way of selecting these cells; you could select\n",
    "# the headers then fill(RIGHT) instead\n",
    "\n",
    "row_headers = beatles.filter(\"John\").assert_one().expand(DOWN)\n",
    "# savepreviewhtml(row_headers)\n",
    "all_value_rows = beatles.filter(\"John\").assert_one().expand(RIGHT).expand(DOWN)\n",
    "# savepreviewhtml(all_row_cells)\n",
    "# Finding the difference of all row cells and headers gives just the values. \n",
    "savepreviewhtml(all_value_rows - row_headers)"
   ]
  },
  {
   "cell_type": "code",
   "execution_count": 95,
   "metadata": {
    "collapsed": false
   },
   "outputs": [
    {
     "data": {
      "text/html": [
       "<div id=\"injblock1037\">#injblock1037\n",
       "<style>\n",
       "table.ex, table.exkey { border: thin black solid }\n",
       "table.ex td, table.ex tr { border: none }\n",
       "table.ex td:hover { border: thin blue solid }\n",
       "table.ex td.excOBS:hover { border: thin red solid }\n",
       "table.ex td.selected { border: thick red solid }\n",
       "</style>\n",
       "\n",
       "\n",
       "Table: <b>beatles</b> <table class=\"exkey\">\n",
       "<tr><td class=\"xc0\" style=\"background-color:Aqua\">item 0</td></tr></table>\n",
       "\n",
       "<table class=\"ex\">\n",
       "<tr><td title=\"0 0\">Date</td><td title=\"1 0\">2014.0</td><td title=\"2 0\"></td><td title=\"3 0\"></td></tr>\n",
       "<tr><td title=\"0 1\"></td><td title=\"1 1\"></td><td title=\"2 1\"></td><td title=\"3 1\"></td></tr>\n",
       "<tr><td title=\"0 2\"></td><td style=\"background-color:Aqua\" title=\"1 2\">Cars</td><td style=\"background-color:Aqua;font-weight:bold\" title=\"2 2\">Planes</td><td style=\"background-color:Aqua;font-weight:bold\" title=\"3 2\">Trains</td></tr>\n",
       "<tr><td style=\"background-color:Aqua\" title=\"0 3\">John</td><td title=\"1 3\">2.0</td><td title=\"2 3\">2.0</td><td title=\"3 3\">1.0</td></tr>\n",
       "<tr><td style=\"background-color:Aqua\" title=\"0 4\">Paul</td><td title=\"1 4\">4.0</td><td title=\"2 4\">3.0</td><td title=\"3 4\">2.0</td></tr>\n",
       "<tr><td style=\"background-color:Aqua\" title=\"0 5\">Ringo</td><td title=\"1 5\">4.0</td><td title=\"2 5\">1.0</td><td title=\"3 5\">3.0</td></tr>\n",
       "<tr><td style=\"background-color:Aqua\" title=\"0 6\">George</td><td title=\"1 6\">2.0</td><td title=\"2 6\">5.0</td><td title=\"3 6\">5.0</td></tr>\n",
       "</table>\n",
       "\n",
       "</div>\n"
      ],
      "text/plain": [
       "<IPython.core.display.HTML object>"
      ]
     },
     "metadata": {},
     "output_type": "display_data"
    }
   ],
   "source": [
    "# Union of cells — bag_a | bag_b — gives cells that are in bag_a and bag_b (including those in both).\n",
    "column_headers = beatles.filter(\"Cars\").assert_one().expand(RIGHT)\n",
    "all_headers = row_headers | column_headers\n",
    "savepreviewhtml(all_headers)"
   ]
  },
  {
   "cell_type": "code",
   "execution_count": 96,
   "metadata": {
    "collapsed": false
   },
   "outputs": [
    {
     "name": "stdout",
     "output_type": "stream",
     "text": [
      "set()\n"
     ]
    }
   ],
   "source": [
    "# Intersection of cells — bag_a & bag_b — gives cells in both bag_a and bag_b.\n",
    "cells_in_both_headers = row_headers & column_headers\n",
    "# This set is empty as no cells are in both sets of headers.\n",
    "print(cells_in_both_headers)"
   ]
  },
  {
   "cell_type": "markdown",
   "metadata": {},
   "source": [
    "### bag.filter(_string_)\n",
    "\n",
    "Return only the cells in the bag with a value of _string_. Typically there's only one, so this is often followed by `.assert_one()`. See later for other options to pass to select."
   ]
  },
  {
   "cell_type": "code",
   "execution_count": 97,
   "metadata": {
    "collapsed": false
   },
   "outputs": [
    {
     "name": "stdout",
     "output_type": "stream",
     "text": [
      "set()\n"
     ]
    }
   ],
   "source": [
    "singer = beatles.filter(\"Mick\")\n",
    "# No matches, as expected.\n",
    "print(singer)"
   ]
  },
  {
   "cell_type": "code",
   "execution_count": 98,
   "metadata": {
    "collapsed": false
   },
   "outputs": [
    {
     "ename": "NoCellsAssertionError",
     "evalue": "assert_one() : 0 cells in bag, not 1",
     "output_type": "error",
     "traceback": [
      "\u001b[0;31m---------------------------------------------------------------------------\u001b[0m",
      "\u001b[0;31mNoCellsAssertionError\u001b[0m                     Traceback (most recent call last)",
      "\u001b[0;32m<ipython-input-98-af9b169bc60c>\u001b[0m in \u001b[0;36m<module>\u001b[0;34m()\u001b[0m\n\u001b[1;32m      2\u001b[0m \u001b[0;31m# This is useful for guaranteeing a value must be present\u001b[0m\u001b[0;34m\u001b[0m\u001b[0;34m\u001b[0m\u001b[0m\n\u001b[1;32m      3\u001b[0m \u001b[0;31m# before continuing with the rest of the recipe.\u001b[0m\u001b[0;34m\u001b[0m\u001b[0;34m\u001b[0m\u001b[0m\n\u001b[0;32m----> 4\u001b[0;31m \u001b[0msinger\u001b[0m \u001b[0;34m=\u001b[0m \u001b[0mbeatles\u001b[0m\u001b[0;34m.\u001b[0m\u001b[0mfilter\u001b[0m\u001b[0;34m(\u001b[0m\u001b[0;34m\"Mick\"\u001b[0m\u001b[0;34m)\u001b[0m\u001b[0;34m.\u001b[0m\u001b[0massert_one\u001b[0m\u001b[0;34m(\u001b[0m\u001b[0;34m)\u001b[0m\u001b[0;34m\u001b[0m\u001b[0m\n\u001b[0m",
      "\u001b[0;32m/home/sm/.virtualenvs/databaker/lib/python3.5/site-packages/xypath/xypath.py\u001b[0m in \u001b[0;36massert_one\u001b[0;34m(self, message)\u001b[0m\n\u001b[1;32m    426\u001b[0m             raise NoCellsAssertionError(\n\u001b[1;32m    427\u001b[0m                 message.format(\n\u001b[0;32m--> 428\u001b[0;31m                     \u001b[0mlen\u001b[0m\u001b[0;34m(\u001b[0m\u001b[0mself\u001b[0m\u001b[0;34m.\u001b[0m\u001b[0m__store\u001b[0m\u001b[0;34m)\u001b[0m\u001b[0;34m\u001b[0m\u001b[0m\n\u001b[0m\u001b[1;32m    429\u001b[0m                 )\n\u001b[1;32m    430\u001b[0m             )\n",
      "\u001b[0;31mNoCellsAssertionError\u001b[0m: assert_one() : 0 cells in bag, not 1"
     ]
    }
   ],
   "source": [
    "# If we want to fail loudly, we can use .assert_one()\n",
    "# This is useful for guaranteeing a value must be present\n",
    "# before continuing with the rest of the recipe.\n",
    "singer = beatles.filter(\"Mick\").assert_one()"
   ]
  },
  {
   "cell_type": "code",
   "execution_count": 99,
   "metadata": {
    "collapsed": false
   },
   "outputs": [
    {
     "name": "stdout",
     "output_type": "stream",
     "text": [
      "{<A5 'Paul'>}\n"
     ]
    }
   ],
   "source": [
    "# This works without any error, as the expected value is present.\n",
    "singer = beatles.filter(\"Paul\").assert_one()\n",
    "print(singer)"
   ]
  },
  {
   "cell_type": "markdown",
   "metadata": {},
   "source": [
    "### bag.one\\_of(_list-of-selects_) [db]\n",
    "\n",
    "Return cells in the bag for which any of the selects match. selects are usually strings but could also be _cell-functions_ (see the backend of bag.select, below)."
   ]
  },
  {
   "cell_type": "code",
   "execution_count": 100,
   "metadata": {
    "collapsed": false
   },
   "outputs": [
    {
     "data": {
      "text/html": [
       "<div id=\"injblock1038\">#injblock1038\n",
       "<style>\n",
       "table.ex, table.exkey { border: thin black solid }\n",
       "table.ex td, table.ex tr { border: none }\n",
       "table.ex td:hover { border: thin blue solid }\n",
       "table.ex td.excOBS:hover { border: thin red solid }\n",
       "table.ex td.selected { border: thick red solid }\n",
       "</style>\n",
       "\n",
       "\n",
       "Table: <b>beatles</b> <table class=\"exkey\">\n",
       "<tr><td class=\"xc0\" style=\"background-color:Aqua\">item 0</td></tr></table>\n",
       "\n",
       "<table class=\"ex\">\n",
       "<tr><td title=\"0 0\">Date</td><td title=\"1 0\">2014.0</td><td title=\"2 0\"></td><td title=\"3 0\"></td></tr>\n",
       "<tr><td title=\"0 1\"></td><td title=\"1 1\"></td><td title=\"2 1\"></td><td title=\"3 1\"></td></tr>\n",
       "<tr><td title=\"0 2\"></td><td title=\"1 2\">Cars</td><td style=\"font-weight:bold\" title=\"2 2\">Planes</td><td style=\"font-weight:bold\" title=\"3 2\">Trains</td></tr>\n",
       "<tr><td style=\"background-color:Aqua\" title=\"0 3\">John</td><td title=\"1 3\">2.0</td><td title=\"2 3\">2.0</td><td title=\"3 3\">1.0</td></tr>\n",
       "<tr><td style=\"background-color:Aqua\" title=\"0 4\">Paul</td><td title=\"1 4\">4.0</td><td title=\"2 4\">3.0</td><td title=\"3 4\">2.0</td></tr>\n",
       "<tr><td title=\"0 5\">Ringo</td><td title=\"1 5\">4.0</td><td title=\"2 5\">1.0</td><td title=\"3 5\">3.0</td></tr>\n",
       "<tr><td title=\"0 6\">George</td><td title=\"1 6\">2.0</td><td title=\"2 6\">5.0</td><td title=\"3 6\">5.0</td></tr>\n",
       "</table>\n",
       "\n",
       "</div>\n"
      ],
      "text/plain": [
       "<IPython.core.display.HTML object>"
      ]
     },
     "metadata": {},
     "output_type": "display_data"
    }
   ],
   "source": [
    "multiple_matches = beatles.one_of([\"Paul\", \"John\"])\n",
    "savepreviewhtml(multiple_matches)"
   ]
  },
  {
   "cell_type": "markdown",
   "metadata": {},
   "source": [
    "### bag.regex(_regular-expression_) [db]\n",
    "\n",
    "Return cells whose values match the regular expression."
   ]
  },
  {
   "cell_type": "code",
   "execution_count": 101,
   "metadata": {
    "collapsed": false
   },
   "outputs": [
    {
     "data": {
      "text/html": [
       "<div id=\"injblock1039\">#injblock1039\n",
       "<style>\n",
       "table.ex, table.exkey { border: thin black solid }\n",
       "table.ex td, table.ex tr { border: none }\n",
       "table.ex td:hover { border: thin blue solid }\n",
       "table.ex td.excOBS:hover { border: thin red solid }\n",
       "table.ex td.selected { border: thick red solid }\n",
       "</style>\n",
       "\n",
       "\n",
       "Table: <b>beatles</b> <table class=\"exkey\">\n",
       "<tr><td class=\"xc0\" style=\"background-color:Aqua\">item 0</td></tr></table>\n",
       "\n",
       "<table class=\"ex\">\n",
       "<tr><td title=\"0 0\">Date</td><td title=\"1 0\">2014.0</td><td title=\"2 0\"></td><td title=\"3 0\"></td></tr>\n",
       "<tr><td title=\"0 1\"></td><td title=\"1 1\"></td><td title=\"2 1\"></td><td title=\"3 1\"></td></tr>\n",
       "<tr><td title=\"0 2\"></td><td style=\"background-color:Aqua\" title=\"1 2\">Cars</td><td style=\"background-color:Aqua;font-weight:bold\" title=\"2 2\">Planes</td><td style=\"background-color:Aqua;font-weight:bold\" title=\"3 2\">Trains</td></tr>\n",
       "<tr><td title=\"0 3\">John</td><td title=\"1 3\">2.0</td><td title=\"2 3\">2.0</td><td title=\"3 3\">1.0</td></tr>\n",
       "<tr><td title=\"0 4\">Paul</td><td title=\"1 4\">4.0</td><td title=\"2 4\">3.0</td><td title=\"3 4\">2.0</td></tr>\n",
       "<tr><td title=\"0 5\">Ringo</td><td title=\"1 5\">4.0</td><td title=\"2 5\">1.0</td><td title=\"3 5\">3.0</td></tr>\n",
       "<tr><td title=\"0 6\">George</td><td title=\"1 6\">2.0</td><td title=\"2 6\">5.0</td><td title=\"3 6\">5.0</td></tr>\n",
       "</table>\n",
       "\n",
       "</div>\n"
      ],
      "text/plain": [
       "<IPython.core.display.HTML object>"
      ]
     },
     "metadata": {},
     "output_type": "display_data"
    }
   ],
   "source": [
    "# Here, we're finding cells that match the regular expression\n",
    "# or \"regex\": .*s$\n",
    "# For this match to succeed, we can have any character, any number of times,\n",
    "# provided there is a s at the end of it (denoted by $)\n",
    "\n",
    "# https://regexone.com/ is a nice, easy to follow tutorial starting from scratch.\n",
    "# https://regex101.com/ is useful for testing out regular expressions\n",
    "regex_matches = beatles.regex(\".*s$\")\n",
    "savepreviewhtml(regex_matches)"
   ]
  },
  {
   "cell_type": "markdown",
   "metadata": {},
   "source": [
    "### bag.assert_one()\n",
    "\n",
    "Return the bag unchanged, so long as it contains exactly one cell.\n",
    "Otherwise crash."
   ]
  },
  {
   "cell_type": "markdown",
   "metadata": {},
   "source": [
    "### bag.shift(_x_, _y_)\n",
    "### bag.shift(_direction_)\n",
    "\n",
    "Return only cells which are exactly _x_ cells to the right, and _y_ cells down from a cell in the current bag. Either _x_ or _y_ can be negative to look left and up respectively.\n",
    "\n",
    "There's no guarantee that you'll have the same number of cells afterwards; there might not be a cell at the new position.\n",
    "\n",
    "You can also use any direction: `UP`, `DOWN`, `LEFT`, `RIGHT`, `ABOVE`, `BELOW`; or pass an `(`_x_`, `_y_`)` tuple.\n",
    "\n",
    "![Shift example](shift.jpeg)"
   ]
  },
  {
   "cell_type": "code",
   "execution_count": 102,
   "metadata": {
    "collapsed": false
   },
   "outputs": [
    {
     "data": {
      "text/html": [
       "<div id=\"injblock1040\">#injblock1040\n",
       "<style>\n",
       "table.ex, table.exkey { border: thin black solid }\n",
       "table.ex td, table.ex tr { border: none }\n",
       "table.ex td:hover { border: thin blue solid }\n",
       "table.ex td.excOBS:hover { border: thin red solid }\n",
       "table.ex td.selected { border: thick red solid }\n",
       "</style>\n",
       "\n",
       "\n",
       "Table: <b>beatles</b> <table class=\"exkey\">\n",
       "<tr><td class=\"xc0\" style=\"background-color:Aqua\">item 0</td></tr></table>\n",
       "\n",
       "<table class=\"ex\">\n",
       "<tr><td title=\"0 0\">Date</td><td title=\"1 0\">2014.0</td><td title=\"2 0\"></td><td title=\"3 0\"></td></tr>\n",
       "<tr><td title=\"0 1\"></td><td title=\"1 1\"></td><td title=\"2 1\"></td><td title=\"3 1\"></td></tr>\n",
       "<tr><td title=\"0 2\"></td><td title=\"1 2\">Cars</td><td style=\"font-weight:bold\" title=\"2 2\">Planes</td><td style=\"font-weight:bold\" title=\"3 2\">Trains</td></tr>\n",
       "<tr><td title=\"0 3\">John</td><td title=\"1 3\">2.0</td><td style=\"background-color:Aqua\" title=\"2 3\">2.0</td><td title=\"3 3\">1.0</td></tr>\n",
       "<tr><td title=\"0 4\">Paul</td><td title=\"1 4\">4xxxx</td><td style=\"background-color:Aqua\" title=\"2 4\">3.0</td><td title=\"3 4\">2.0</td></tr>\n",
       "<tr><td title=\"0 5\">Ringo</td><td title=\"1 5\">4.0</td><td style=\"background-color:Aqua\" title=\"2 5\">1.0</td><td title=\"3 5\">3.0</td></tr>\n",
       "<tr><td title=\"0 6\">George</td><td title=\"1 6\">2.0</td><td style=\"background-color:Aqua\" title=\"2 6\">5.0</td><td title=\"3 6\">5.0</td></tr>\n",
       "</table>\n",
       "\n",
       "</div>\n"
      ],
      "text/plain": [
       "<IPython.core.display.HTML object>"
      ]
     },
     "metadata": {},
     "output_type": "display_data"
    }
   ],
   "source": [
    "# Get cells that are shifted two to the right from\n",
    "# the row headers (which were previously selected above in\n",
    "# the set operations section).\n",
    "shifted_right = row_headers.shift(2, 0)\n",
    "savepreviewhtml(shifted)"
   ]
  },
  {
   "cell_type": "markdown",
   "metadata": {},
   "source": [
    "### bag.extrude(_x_, _y_)\n",
    "\n",
    "Get this cell, and all cells within _x_ squares right of it, and _y_ squares below it. _x_ and _y_ can be negative for left and up respectively.\n",
    "\n",
    "![Extrude example](extrude.jpeg)"
   ]
  },
  {
   "cell_type": "markdown",
   "metadata": {},
   "source": [
    "### bag.fill(_direction_)\n",
    "### bag.expand(_direction_)\n",
    "\n",
    "From each of the cells in the bag, get all cells that are in the specified _direction_. `fill` doesn't include the original cells; `expand` does.\n",
    "Note that this might get a lot of blank cells: consider using `is_not_blank()`.\n",
    "\n",
    "![Fill and expand example](fillexpand.jpeg)\n",
    "\n",
    "It also has a `stop_before` parameter: this takes a function which is tested against each bag; the fill/expand will stop if function(bag) is True. Note that this only works when cells are in a single row or column (specifically; the cells are scanned in book-reading order, left to right and top to bottom; we stop the first time the value is True)."
   ]
  },
  {
   "cell_type": "code",
   "execution_count": 103,
   "metadata": {
    "collapsed": false
   },
   "outputs": [
    {
     "data": {
      "text/html": [
       "<div id=\"injblock1041\">#injblock1041\n",
       "<style>\n",
       "table.ex, table.exkey { border: thin black solid }\n",
       "table.ex td, table.ex tr { border: none }\n",
       "table.ex td:hover { border: thin blue solid }\n",
       "table.ex td.excOBS:hover { border: thin red solid }\n",
       "table.ex td.selected { border: thick red solid }\n",
       "</style>\n",
       "\n",
       "\n",
       "Table: <b>beatles</b> <table class=\"exkey\">\n",
       "<tr><td class=\"xc0\" style=\"background-color:Aqua\">item 0</td></tr></table>\n",
       "\n",
       "<table class=\"ex\">\n",
       "<tr><td title=\"0 0\">Date</td><td title=\"1 0\">2014.0</td><td title=\"2 0\"></td><td title=\"3 0\"></td></tr>\n",
       "<tr><td title=\"0 1\"></td><td title=\"1 1\"></td><td title=\"2 1\"></td><td title=\"3 1\"></td></tr>\n",
       "<tr><td title=\"0 2\"></td><td title=\"1 2\">Cars</td><td style=\"font-weight:bold\" title=\"2 2\">Planes</td><td style=\"font-weight:bold\" title=\"3 2\">Trains</td></tr>\n",
       "<tr><td title=\"0 3\">John</td><td style=\"background-color:Aqua\" title=\"1 3\">2.0</td><td style=\"background-color:Aqua\" title=\"2 3\">2.0</td><td style=\"background-color:Aqua\" title=\"3 3\">1.0</td></tr>\n",
       "<tr><td title=\"0 4\">Paul</td><td title=\"1 4\">4.0</td><td title=\"2 4\">3.0</td><td title=\"3 4\">2.0</td></tr>\n",
       "<tr><td title=\"0 5\">Ringo</td><td style=\"background-color:Aqua\" title=\"1 5\">4.0</td><td style=\"background-color:Aqua\" title=\"2 5\">1.0</td><td style=\"background-color:Aqua\" title=\"3 5\">3.0</td></tr>\n",
       "<tr><td title=\"0 6\">George</td><td title=\"1 6\">2.0</td><td title=\"2 6\">5.0</td><td title=\"3 6\">5.0</td></tr>\n",
       "</table>\n",
       "\n",
       "</div>\n"
      ],
      "text/plain": [
       "<IPython.core.display.HTML object>"
      ]
     },
     "metadata": {},
     "output_type": "display_data"
    }
   ],
   "source": [
    "john_and_paul = beatles.filter(\"Ringo\").assert_one() | beatles.filter(\"John\").assert_one()\n",
    "savepreviewhtml(john_and_paul.fill(RIGHT))"
   ]
  },
  {
   "cell_type": "code",
   "execution_count": 104,
   "metadata": {
    "collapsed": false
   },
   "outputs": [
    {
     "data": {
      "text/html": [
       "<div id=\"injblock1042\">#injblock1042\n",
       "<style>\n",
       "table.ex, table.exkey { border: thin black solid }\n",
       "table.ex td, table.ex tr { border: none }\n",
       "table.ex td:hover { border: thin blue solid }\n",
       "table.ex td.excOBS:hover { border: thin red solid }\n",
       "table.ex td.selected { border: thick red solid }\n",
       "</style>\n",
       "\n",
       "\n",
       "Table: <b>beatles</b> <table class=\"exkey\">\n",
       "<tr><td class=\"xc0\" style=\"background-color:Aqua\">item 0</td></tr></table>\n",
       "\n",
       "<table class=\"ex\">\n",
       "<tr><td title=\"0 0\">Date</td><td title=\"1 0\">2014.0</td><td title=\"2 0\"></td><td title=\"3 0\"></td></tr>\n",
       "<tr><td title=\"0 1\"></td><td title=\"1 1\"></td><td title=\"2 1\"></td><td title=\"3 1\"></td></tr>\n",
       "<tr><td title=\"0 2\"></td><td title=\"1 2\">Cars</td><td style=\"font-weight:bold\" title=\"2 2\">Planes</td><td style=\"font-weight:bold\" title=\"3 2\">Trains</td></tr>\n",
       "<tr><td style=\"background-color:Aqua\" title=\"0 3\">John</td><td style=\"background-color:Aqua\" title=\"1 3\">2.0</td><td style=\"background-color:Aqua\" title=\"2 3\">2.0</td><td style=\"background-color:Aqua\" title=\"3 3\">1.0</td></tr>\n",
       "<tr><td title=\"0 4\">Paul</td><td title=\"1 4\">4.0</td><td title=\"2 4\">3.0</td><td title=\"3 4\">2.0</td></tr>\n",
       "<tr><td style=\"background-color:Aqua\" title=\"0 5\">Ringo</td><td style=\"background-color:Aqua\" title=\"1 5\">4.0</td><td style=\"background-color:Aqua\" title=\"2 5\">1.0</td><td style=\"background-color:Aqua\" title=\"3 5\">3.0</td></tr>\n",
       "<tr><td title=\"0 6\">George</td><td title=\"1 6\">2.0</td><td title=\"2 6\">5.0</td><td title=\"3 6\">5.0</td></tr>\n",
       "</table>\n",
       "\n",
       "</div>\n"
      ],
      "text/plain": [
       "<IPython.core.display.HTML object>"
      ]
     },
     "metadata": {},
     "output_type": "display_data"
    }
   ],
   "source": [
    "savepreviewhtml(john_and_paul.expand(RIGHT))"
   ]
  },
  {
   "cell_type": "markdown",
   "metadata": {},
   "source": [
    "### bag.is_number() [DB]\n",
    "\n",
    "Return only the cells in the bag which have a numeric value."
   ]
  },
  {
   "cell_type": "code",
   "execution_count": 105,
   "metadata": {
    "collapsed": false
   },
   "outputs": [
    {
     "data": {
      "text/html": [
       "<div id=\"injblock1043\">#injblock1043\n",
       "<style>\n",
       "table.ex, table.exkey { border: thin black solid }\n",
       "table.ex td, table.ex tr { border: none }\n",
       "table.ex td:hover { border: thin blue solid }\n",
       "table.ex td.excOBS:hover { border: thin red solid }\n",
       "table.ex td.selected { border: thick red solid }\n",
       "</style>\n",
       "\n",
       "\n",
       "Table: <b>beatles</b> <table class=\"exkey\">\n",
       "<tr><td class=\"xc0\" style=\"background-color:Aqua\">item 0</td></tr></table>\n",
       "\n",
       "<table class=\"ex\">\n",
       "<tr><td title=\"0 0\">Date</td><td style=\"background-color:Aqua\" title=\"1 0\">2014.0</td><td title=\"2 0\"></td><td title=\"3 0\"></td></tr>\n",
       "<tr><td title=\"0 1\"></td><td title=\"1 1\"></td><td title=\"2 1\"></td><td title=\"3 1\"></td></tr>\n",
       "<tr><td title=\"0 2\"></td><td title=\"1 2\">Cars</td><td style=\"font-weight:bold\" title=\"2 2\">Planes</td><td style=\"font-weight:bold\" title=\"3 2\">Trains</td></tr>\n",
       "<tr><td title=\"0 3\">John</td><td style=\"background-color:Aqua\" title=\"1 3\">2.0</td><td style=\"background-color:Aqua\" title=\"2 3\">2.0</td><td style=\"background-color:Aqua\" title=\"3 3\">1.0</td></tr>\n",
       "<tr><td title=\"0 4\">Paul</td><td style=\"background-color:Aqua\" title=\"1 4\">4.0</td><td style=\"background-color:Aqua\" title=\"2 4\">3.0</td><td style=\"background-color:Aqua\" title=\"3 4\">2.0</td></tr>\n",
       "<tr><td title=\"0 5\">Ringo</td><td style=\"background-color:Aqua\" title=\"1 5\">4.0</td><td style=\"background-color:Aqua\" title=\"2 5\">1.0</td><td style=\"background-color:Aqua\" title=\"3 5\">3.0</td></tr>\n",
       "<tr><td title=\"0 6\">George</td><td style=\"background-color:Aqua\" title=\"1 6\">2.0</td><td style=\"background-color:Aqua\" title=\"2 6\">5.0</td><td style=\"background-color:Aqua\" title=\"3 6\">5.0</td></tr>\n",
       "</table>\n",
       "\n",
       "</div>\n"
      ],
      "text/plain": [
       "<IPython.core.display.HTML object>"
      ]
     },
     "metadata": {},
     "output_type": "display_data"
    }
   ],
   "source": [
    "number_cells = beatles.is_number()\n",
    "savepreviewhtml(number_cells)"
   ]
  },
  {
   "cell_type": "markdown",
   "metadata": {},
   "source": [
    "### bag.is_date() [DB]\n",
    "\n",
    "Return only the cells in the bag which are in one of the following string formats:\n",
    "```\n",
    "1999\n",
    "1999 Q1\n",
    "Jan 1999\n",
    "Jan-Mar 1999\n",
    "```\n",
    "Note that currently this won't detect cells which are actually recognised by Excel as dates!"
   ]
  },
  {
   "cell_type": "code",
   "execution_count": 106,
   "metadata": {
    "collapsed": false
   },
   "outputs": [
    {
     "data": {
      "text/html": [
       "<div id=\"injblock1044\">#injblock1044\n",
       "<style>\n",
       "table.ex, table.exkey { border: thin black solid }\n",
       "table.ex td, table.ex tr { border: none }\n",
       "table.ex td:hover { border: thin blue solid }\n",
       "table.ex td.excOBS:hover { border: thin red solid }\n",
       "table.ex td.selected { border: thick red solid }\n",
       "</style>\n",
       "\n",
       "\n",
       "Table: <b>beatles</b> <table class=\"exkey\">\n",
       "<tr><td class=\"xc0\" style=\"background-color:Aqua\">item 0</td></tr></table>\n",
       "\n",
       "<table class=\"ex\">\n",
       "<tr><td title=\"0 0\">Date</td><td style=\"background-color:Aqua\" title=\"1 0\">2014.0</td><td title=\"2 0\"></td><td title=\"3 0\"></td></tr>\n",
       "<tr><td title=\"0 1\"></td><td title=\"1 1\"></td><td title=\"2 1\"></td><td title=\"3 1\"></td></tr>\n",
       "<tr><td title=\"0 2\"></td><td title=\"1 2\">Cars</td><td style=\"font-weight:bold\" title=\"2 2\">Planes</td><td style=\"font-weight:bold\" title=\"3 2\">Trains</td></tr>\n",
       "<tr><td title=\"0 3\">John</td><td title=\"1 3\">2.0</td><td title=\"2 3\">2.0</td><td title=\"3 3\">1.0</td></tr>\n",
       "<tr><td title=\"0 4\">Paul</td><td title=\"1 4\">4.0</td><td title=\"2 4\">3.0</td><td title=\"3 4\">2.0</td></tr>\n",
       "<tr><td title=\"0 5\">Ringo</td><td title=\"1 5\">4.0</td><td title=\"2 5\">1.0</td><td title=\"3 5\">3.0</td></tr>\n",
       "<tr><td title=\"0 6\">George</td><td title=\"1 6\">2.0</td><td title=\"2 6\">5.0</td><td title=\"3 6\">5.0</td></tr>\n",
       "</table>\n",
       "\n",
       "</div>\n"
      ],
      "text/plain": [
       "<IPython.core.display.HTML object>"
      ]
     },
     "metadata": {},
     "output_type": "display_data"
    }
   ],
   "source": [
    "date_cell = beatles.is_date()\n",
    "savepreviewhtml(date_cell)"
   ]
  },
  {
   "cell_type": "markdown",
   "metadata": {},
   "source": [
    "### bag.spaceprefix(count)\n",
    "\n",
    "Return cells which have `count` whitespace characters at the start, and then a non-whitespace character."
   ]
  },
  {
   "cell_type": "markdown",
   "metadata": {},
   "source": [
    "### bag.is_XXX()\n",
    "### bag.is\\_not\\_XXX()\n",
    "\n",
    "Return only the cells which are / are not a thing.\n",
    "\n",
    "```python\n",
    "bag.is_not_bold()\n",
    "bag.is_strikeout()\n",
    "```\n",
    "\n",
    "Options which make sense: `bold`, `italic`, `strikeout`, `underline`, `blank`, `any_border`, `all_border`, `richtext`, `whitespace`.\n",
    "(is any border lined? are all four borders lined? is this cell richtext?)"
   ]
  },
  {
   "cell_type": "code",
   "execution_count": 107,
   "metadata": {
    "collapsed": false
   },
   "outputs": [
    {
     "data": {
      "text/html": [
       "<div id=\"injblock1045\">#injblock1045\n",
       "<style>\n",
       "table.ex, table.exkey { border: thin black solid }\n",
       "table.ex td, table.ex tr { border: none }\n",
       "table.ex td:hover { border: thin blue solid }\n",
       "table.ex td.excOBS:hover { border: thin red solid }\n",
       "table.ex td.selected { border: thick red solid }\n",
       "</style>\n",
       "\n",
       "\n",
       "Table: <b>beatles</b> <table class=\"exkey\">\n",
       "<tr><td class=\"xc0\" style=\"background-color:Aqua\">item 0</td></tr></table>\n",
       "\n",
       "<table class=\"ex\">\n",
       "<tr><td title=\"0 0\">Date</td><td title=\"1 0\">2014.0</td><td title=\"2 0\"></td><td title=\"3 0\"></td></tr>\n",
       "<tr><td title=\"0 1\"></td><td title=\"1 1\"></td><td title=\"2 1\"></td><td title=\"3 1\"></td></tr>\n",
       "<tr><td title=\"0 2\"></td><td title=\"1 2\">Cars</td><td style=\"background-color:Aqua;font-weight:bold\" title=\"2 2\">Planes</td><td style=\"background-color:Aqua;font-weight:bold\" title=\"3 2\">Trains</td></tr>\n",
       "<tr><td title=\"0 3\">John</td><td title=\"1 3\">2.0</td><td title=\"2 3\">2.0</td><td title=\"3 3\">1.0</td></tr>\n",
       "<tr><td title=\"0 4\">Paul</td><td title=\"1 4\">4.0</td><td title=\"2 4\">3.0</td><td title=\"3 4\">2.0</td></tr>\n",
       "<tr><td title=\"0 5\">Ringo</td><td title=\"1 5\">4.0</td><td title=\"2 5\">1.0</td><td title=\"3 5\">3.0</td></tr>\n",
       "<tr><td title=\"0 6\">George</td><td title=\"1 6\">2.0</td><td title=\"2 6\">5.0</td><td title=\"3 6\">5.0</td></tr>\n",
       "</table>\n",
       "\n",
       "</div>\n"
      ],
      "text/plain": [
       "<IPython.core.display.HTML object>"
      ]
     },
     "metadata": {},
     "output_type": "display_data"
    }
   ],
   "source": [
    "bold_cells = beatles.is_bold()\n",
    "savepreviewhtml(bold_cells)"
   ]
  },
  {
   "cell_type": "code",
   "execution_count": 108,
   "metadata": {
    "collapsed": false
   },
   "outputs": [
    {
     "data": {
      "text/html": [
       "<div id=\"injblock1046\">#injblock1046\n",
       "<style>\n",
       "table.ex, table.exkey { border: thin black solid }\n",
       "table.ex td, table.ex tr { border: none }\n",
       "table.ex td:hover { border: thin blue solid }\n",
       "table.ex td.excOBS:hover { border: thin red solid }\n",
       "table.ex td.selected { border: thick red solid }\n",
       "</style>\n",
       "\n",
       "\n",
       "Table: <b>beatles</b> <table class=\"exkey\">\n",
       "<tr><td class=\"xc0\" style=\"background-color:Aqua\">item 0</td></tr></table>\n",
       "\n",
       "<table class=\"ex\">\n",
       "<tr><td style=\"background-color:Aqua\" title=\"0 0\">Date</td><td style=\"background-color:Aqua\" title=\"1 0\">2014.0</td><td style=\"background-color:Aqua\" title=\"2 0\"></td><td style=\"background-color:Aqua\" title=\"3 0\"></td></tr>\n",
       "<tr><td style=\"background-color:Aqua\" title=\"0 1\"></td><td style=\"background-color:Aqua\" title=\"1 1\"></td><td style=\"background-color:Aqua\" title=\"2 1\"></td><td style=\"background-color:Aqua\" title=\"3 1\"></td></tr>\n",
       "<tr><td style=\"background-color:Aqua\" title=\"0 2\"></td><td style=\"background-color:Aqua\" title=\"1 2\">Cars</td><td style=\"font-weight:bold\" title=\"2 2\">Planes</td><td style=\"font-weight:bold\" title=\"3 2\">Trains</td></tr>\n",
       "<tr><td style=\"background-color:Aqua\" title=\"0 3\">John</td><td style=\"background-color:Aqua\" title=\"1 3\">2.0</td><td style=\"background-color:Aqua\" title=\"2 3\">2.0</td><td style=\"background-color:Aqua\" title=\"3 3\">1.0</td></tr>\n",
       "<tr><td style=\"background-color:Aqua\" title=\"0 4\">Paul</td><td style=\"background-color:Aqua\" title=\"1 4\">4.0</td><td style=\"background-color:Aqua\" title=\"2 4\">3.0</td><td style=\"background-color:Aqua\" title=\"3 4\">2.0</td></tr>\n",
       "<tr><td style=\"background-color:Aqua\" title=\"0 5\">Ringo</td><td style=\"background-color:Aqua\" title=\"1 5\">4.0</td><td style=\"background-color:Aqua\" title=\"2 5\">1.0</td><td style=\"background-color:Aqua\" title=\"3 5\">3.0</td></tr>\n",
       "<tr><td style=\"background-color:Aqua\" title=\"0 6\">George</td><td style=\"background-color:Aqua\" title=\"1 6\">2.0</td><td style=\"background-color:Aqua\" title=\"2 6\">5.0</td><td style=\"background-color:Aqua\" title=\"3 6\">5.0</td></tr>\n",
       "</table>\n",
       "\n",
       "</div>\n"
      ],
      "text/plain": [
       "<IPython.core.display.HTML object>"
      ]
     },
     "metadata": {},
     "output_type": "display_data"
    }
   ],
   "source": [
    "non_bold_cells = beatles.is_not_bold()\n",
    "savepreviewhtml(non_bold_cells)"
   ]
  },
  {
   "cell_type": "markdown",
   "metadata": {},
   "source": [
    "### bag.XXX\\_is(_value_)\n",
    "### bag.XXX\\_is\\_not(_value_)\n",
    "\n",
    "Return only the cells for which the property has / doesn't have a particular value.\n",
    "\n",
    "Options which make sense: `size` (in points), `font_name` (a string).\n",
    "\n",
    "`bag.font_name_is_not(\"Comic Sans MS\")`"
   ]
  },
  {
   "cell_type": "code",
   "execution_count": 109,
   "metadata": {
    "collapsed": false
   },
   "outputs": [
    {
     "data": {
      "text/html": [
       "<div id=\"injblock1047\">#injblock1047\n",
       "<style>\n",
       "table.ex, table.exkey { border: thin black solid }\n",
       "table.ex td, table.ex tr { border: none }\n",
       "table.ex td:hover { border: thin blue solid }\n",
       "table.ex td.excOBS:hover { border: thin red solid }\n",
       "table.ex td.selected { border: thick red solid }\n",
       "</style>\n",
       "\n",
       "\n",
       "Table: <b>beatles</b> <table class=\"exkey\">\n",
       "<tr><td class=\"xc0\" style=\"background-color:Aqua\">item 0</td></tr></table>\n",
       "\n",
       "<table class=\"ex\">\n",
       "<tr><td style=\"background-color:Aqua\" title=\"0 0\">Date</td><td style=\"background-color:Aqua\" title=\"1 0\">2014.0</td><td style=\"background-color:Aqua\" title=\"2 0\"></td><td style=\"background-color:Aqua\" title=\"3 0\"></td></tr>\n",
       "<tr><td style=\"background-color:Aqua\" title=\"0 1\"></td><td style=\"background-color:Aqua\" title=\"1 1\"></td><td style=\"background-color:Aqua\" title=\"2 1\"></td><td style=\"background-color:Aqua\" title=\"3 1\"></td></tr>\n",
       "<tr><td style=\"background-color:Aqua\" title=\"0 2\"></td><td style=\"background-color:Aqua\" title=\"1 2\">Cars</td><td style=\"background-color:Aqua;font-weight:bold\" title=\"2 2\">Planes</td><td style=\"background-color:Aqua;font-weight:bold\" title=\"3 2\">Trains</td></tr>\n",
       "<tr><td style=\"background-color:Aqua\" title=\"0 3\">John</td><td style=\"background-color:Aqua\" title=\"1 3\">2.0</td><td style=\"background-color:Aqua\" title=\"2 3\">2.0</td><td style=\"background-color:Aqua\" title=\"3 3\">1.0</td></tr>\n",
       "<tr><td style=\"background-color:Aqua\" title=\"0 4\">Paul</td><td style=\"background-color:Aqua\" title=\"1 4\">4.0</td><td style=\"background-color:Aqua\" title=\"2 4\">3.0</td><td style=\"background-color:Aqua\" title=\"3 4\">2.0</td></tr>\n",
       "<tr><td style=\"background-color:Aqua\" title=\"0 5\">Ringo</td><td style=\"background-color:Aqua\" title=\"1 5\">4.0</td><td style=\"background-color:Aqua\" title=\"2 5\">1.0</td><td style=\"background-color:Aqua\" title=\"3 5\">3.0</td></tr>\n",
       "<tr><td style=\"background-color:Aqua\" title=\"0 6\">George</td><td style=\"background-color:Aqua\" title=\"1 6\">2.0</td><td style=\"background-color:Aqua\" title=\"2 6\">5.0</td><td style=\"background-color:Aqua\" title=\"3 6\">5.0</td></tr>\n",
       "</table>\n",
       "\n",
       "</div>\n"
      ],
      "text/plain": [
       "<IPython.core.display.HTML object>"
      ]
     },
     "metadata": {},
     "output_type": "display_data"
    }
   ],
   "source": [
    "ten_point_cells = beatles.size_is(10)\n",
    "savepreviewhtml(ten_point_cells)"
   ]
  },
  {
   "cell_type": "markdown",
   "metadata": {},
   "source": [
    "### bag.value\n",
    "Returns the value of a single cell; i.e. the bag must contain a single cell only. Otherwise, this will fail with an assert_one() error if multiple cells are in the bag."
   ]
  },
  {
   "cell_type": "code",
   "execution_count": 110,
   "metadata": {
    "collapsed": false
   },
   "outputs": [
    {
     "name": "stdout",
     "output_type": "stream",
     "text": [
      "2014.0\n"
     ]
    }
   ],
   "source": [
    "print(date_cell.value)"
   ]
  },
  {
   "cell_type": "markdown",
   "metadata": {},
   "source": [
    "### bag.parent()\n",
    "\n",
    "For any spanned cells, get the top-left cell (which contains all the info).\n",
    "\n",
    "Non-spanned cells are passed unchanged."
   ]
  },
  {
   "cell_type": "markdown",
   "metadata": {},
   "source": [
    "### bag.children()\n",
    "For any cell that is part of a span, get *all* cells that are parts of the span.\n",
    "\n",
    "Useful for .fill(DOWN), but note that if the spanned cell is more than one row high,\n",
    "that'll include some of the spanned cells!"
   ]
  },
  {
   "cell_type": "markdown",
   "metadata": {},
   "source": [
    "### bag.group(_regular-expression_) [db]\n",
    "\n",
    "For a single cell, get the matching group from the regular expression.\n",
    "\n",
    "e.g. if the regular expression was `-(.*)-` and the cell's value was `cat-dog-fish`; this would return `dog`."
   ]
  },
  {
   "cell_type": "code",
   "execution_count": 111,
   "metadata": {
    "collapsed": false
   },
   "outputs": [
    {
     "name": "stdout",
     "output_type": "stream",
     "text": [
      "rain\n"
     ]
    }
   ],
   "source": [
    "train_cell = beatles.filter(\"Trains\")\n",
    "# A matching group is specified by parentheses: ( )\n",
    "# For a regular expression that matches the cell's value, using\n",
    "# a matching group means you only get text captured by the parentheses.\n",
    "april_weather = train_cell.group(\"T(.*)s\")\n",
    "print(april_weather)"
   ]
  },
  {
   "cell_type": "markdown",
   "metadata": {},
   "source": [
    "### bag.waffle(_other-bag_)\n",
    "\n",
    "Get all cells which have a cell from one bag above them, and the other bag to the side. Note that the two bags are interchangable without changing the output. You can change the direction from its default (DOWN) by specifying `direction=LEFT` or similar.\n",
    "\n",
    "![Junction extrude example](junctionextrude.jpeg)"
   ]
  },
  {
   "cell_type": "markdown",
   "metadata": {},
   "source": [
    "### bag.same\\_row(_other-bag_)\n",
    "### bag.same\\_col(_other-bag_)\n",
    "\n",
    "Get cells in this bag which are in the same row/column as a cell in the second.\n",
    "\n",
    "![Same row example](same_row.jpeg)"
   ]
  },
  {
   "cell_type": "code",
   "execution_count": 112,
   "metadata": {
    "collapsed": false
   },
   "outputs": [
    {
     "data": {
      "text/html": [
       "<div id=\"injblock1048\">#injblock1048\n",
       "<style>\n",
       "table.ex, table.exkey { border: thin black solid }\n",
       "table.ex td, table.ex tr { border: none }\n",
       "table.ex td:hover { border: thin blue solid }\n",
       "table.ex td.excOBS:hover { border: thin red solid }\n",
       "table.ex td.selected { border: thick red solid }\n",
       "</style>\n",
       "\n",
       "\n",
       "Table: <b>beatles</b> <table class=\"exkey\">\n",
       "<tr><td class=\"xc0\" style=\"background-color:Aqua\">item 0</td></tr></table>\n",
       "\n",
       "<table class=\"ex\">\n",
       "<tr><td title=\"0 0\">Date</td><td title=\"1 0\">2014.0</td><td title=\"2 0\"></td><td title=\"3 0\"></td></tr>\n",
       "<tr><td title=\"0 1\"></td><td title=\"1 1\"></td><td title=\"2 1\"></td><td title=\"3 1\"></td></tr>\n",
       "<tr><td title=\"0 2\"></td><td title=\"1 2\">Cars</td><td style=\"font-weight:bold\" title=\"2 2\">Planes</td><td style=\"font-weight:bold\" title=\"3 2\">Trains</td></tr>\n",
       "<tr><td title=\"0 3\">John</td><td title=\"1 3\">2.0</td><td style=\"background-color:Aqua\" title=\"2 3\">2.0</td><td title=\"3 3\">1.0</td></tr>\n",
       "<tr><td title=\"0 4\">Paul</td><td title=\"1 4\">4.0</td><td title=\"2 4\">3.0</td><td title=\"3 4\">2.0</td></tr>\n",
       "<tr><td title=\"0 5\">Ringo</td><td title=\"1 5\">4.0</td><td title=\"2 5\">1.0</td><td title=\"3 5\">3.0</td></tr>\n",
       "<tr><td title=\"0 6\">George</td><td title=\"1 6\">2.0</td><td title=\"2 6\">5.0</td><td title=\"3 6\">5.0</td></tr>\n",
       "</table>\n",
       "\n",
       "</div>\n"
      ],
      "text/plain": [
       "<IPython.core.display.HTML object>"
      ]
     },
     "metadata": {},
     "output_type": "display_data"
    }
   ],
   "source": [
    "john_values = beatles.filter(\"John\").assert_one().fill(RIGHT)\n",
    "planes_column = beatles.filter(\"Planes\").assert_one().fill(DOWN)\n",
    "savepreviewhtml(planes_column.same_row(john_row))"
   ]
  },
  {
   "cell_type": "markdown",
   "metadata": {},
   "source": [
    "### bag.table\n",
    "\n",
    "The table which these cells are from."
   ]
  },
  {
   "cell_type": "code",
   "execution_count": 113,
   "metadata": {
    "collapsed": false
   },
   "outputs": [
    {
     "name": "stdout",
     "output_type": "stream",
     "text": [
      "{<D3 'Trains'>, <B2 ''>, <A5 'Paul'>, <B1 2014.0>, <C7 5.0>, <A3 ''>, <A2 ''>, <C4 2.0>, <D7 5.0>, <D2 ''>, <A4 'John'>, <B7 2.0>, <C3 'Planes'>, <A6 'Ringo'>, <A7 'George'>, <B4 2.0>, <C6 1.0>, <D1 ''>, <B5 4.0>, <C5 3.0>, <C1 ''>, <A1 'Date'>, <C2 ''>, <D4 1.0>, <B3 'Cars'>, <D6 3.0>, <B6 4.0>, <D5 2.0>}\n"
     ]
    }
   ],
   "source": [
    "print(singer.table)"
   ]
  },
  {
   "cell_type": "markdown",
   "metadata": {},
   "source": [
    "### bag.by_index(index)\n",
    "\n",
    "Get cells from this bag by their position in the bag: i.e. `by_index(1)` will get the first.\n",
    "\n",
    "Can also pass lists of numbers: `by_index([2,4,6,8])` but this might get removed in future,,\n",
    "in favour of using standard Python indexes `bag[4]`.\n",
    "\n",
    "**experimental** : might remove and replace with standard pythonic indexes."
   ]
  },
  {
   "cell_type": "code",
   "execution_count": 114,
   "metadata": {
    "collapsed": false
   },
   "outputs": [
    {
     "name": "stdout",
     "output_type": "stream",
     "text": [
      "{<A1 'Date'>}\n",
      "{<A5 'Paul'>, <A6 'Ringo'>}\n"
     ]
    }
   ],
   "source": [
    "print(beatles.by_index(1))\n",
    "print(beatles.by_index([17,21]))"
   ]
  },
  {
   "cell_type": "markdown",
   "metadata": {},
   "source": [
    "## Table only\n",
    "\n",
    "### table.debug_dimensions() [db]\n",
    "Adds debug dimensions - giving the table name and Excel cell reference - to the output CSV."
   ]
  },
  {
   "cell_type": "markdown",
   "metadata": {},
   "source": [
    "### table.excel\\_ref(_ref_) [db]\n",
    "\n",
    "Get cells from the table via an Excel cell reference: e.g. \"G4\", \"C\", \"9\", \"Q5:Z9\", \"A:C\", \"9:88\".\n",
    "\n",
    "This is useful as a last resort if there's absolutely no other way of\n",
    "specifying a particular cell or cells. However, it's preferable to\n",
    "select cells via dimensions instead as these will be more robust to\n",
    "spreadsheet change.\n",
    "\n",
    "For example, if all the cells are shifted right one\n",
    "in a new version of a spreadsheet, the desired cell will have shifted\n",
    "too, but the reference in the recipe won't be updated and the recipe\n",
    "will not behave as intended."
   ]
  },
  {
   "cell_type": "code",
   "execution_count": 115,
   "metadata": {
    "collapsed": false
   },
   "outputs": [
    {
     "name": "stdout",
     "output_type": "stream",
     "text": [
      "{<A5 'Paul'>}\n"
     ]
    }
   ],
   "source": [
    "print(beatles.excel_ref(\"A5\"))"
   ]
  },
  {
   "cell_type": "markdown",
   "metadata": {},
   "source": [
    "### Shallow magic\n",
    "\n",
    "These are reasonably detailed internals, but might be useful to know.\n",
    "\n",
    "### bag.select(_function_)\n",
    "\n",
    "Get cells from the same table as these cells, based on a function.\n",
    "\n",
    "The function must take two arguments: a bag cell, and a table cell.\n",
    "\n",
    "If the function is `True`, the table cell will be in the output.\n",
    "\n",
    "### bag.select_other(lambda bag_cell, other_cell: foo, other_bag)\n",
    "\n",
    "As `bag.select` except it inspects another bag rather than the bag's table.\n",
    "\n",
    "This is useful because you can return cells from only a subset of the table, or use a different table entirely."
   ]
  },
  {
   "cell_type": "markdown",
   "metadata": {},
   "source": [
    "### bag.junction(otherbag)\n",
    "\n",
    "Similar to `bag.waffle`, except it outputs a list of the form\n",
    "\n",
    "```python\n",
    "[\n",
    "    [bag_cell, otherbag_cell, cell_at_junction],\n",
    "    [bag_cell, otherbag_cell, cell_at_junction],\n",
    "    ...\n",
    "]\n",
    "```"
   ]
  },
  {
   "cell_type": "markdown",
   "metadata": {},
   "source": [
    "### bag.filter(_cell-function_)\n",
    "\n",
    "This is the more general form of the 'filter' command.\n",
    "Return only the cells in the bag for which the _cell-function_ is true. These are typically written\n",
    "```python\n",
    "bag.filter(lambda cell: cell.value > 20 and cell.y < 40)\n",
    "```\n",
    "or\n",
    "\n",
    "```python\n",
    "def large_value_near_top(cell):\n",
    "    return cell.value > 20 and cell.y < 40\n",
    "    \n",
    "bag.filter(large_value_near_top)\n",
    "```\n",
    "\n",
    "Optionally, if you install *hamcrest* (`pip install pyhamcrest`) you can use their matching functions on the cell value - see the [hamcrest documentation](http://pyhamcrest.readthedocs.org/en/latest/library/) for the available functions.\n",
    "\n",
    "```python\n",
    "bag.filter(hamcrest.equal_to(\"dog\"))\n",
    "```\n",
    "\n",
    "Of specific interest is when the _cell-function_ is `re.compile(`_regular-expression_`)`: this is `True` when the regular expression matches the cell's value.  "
   ]
  },
  {
   "cell_type": "markdown",
   "metadata": {},
   "source": [
    "\n",
    "### bag.glue(_cell-function_, _join-function_, _blank_=True)\n",
    "#DEPRECATED\n",
    "\n",
    "**WARNING** : this function modifies cell values and has interesting side-effects. See details below.\n",
    "\n",
    "Sometimes, what should be one cell in the output is split across multiple cells in the Excel spreadsheet. `.glue` rejoins these cells together.\n",
    "\n",
    "![Glue example](glue.png)\n",
    "\n",
    "The bag needs to contain the key cells: those which will contain values once we're done. For each of these cells, the cell_function is called on it, giving a range of ancillary cells which will provide their values to the key cell.\n",
    "\n",
    "The key cell's value becomes the concatenation of it and the ancillary cells in reading order; the ancillary cells values are then wiped (unless `blank` is set to `False`)\n",
    "\n",
    "This does not change the formatting properties of the cells: in particular, the cells are not spanned together.\n",
    "\n",
    "The `join_function` defaults to concatenating the values together with space: a different function can be provided. (i.e. `' '.join`)\n",
    "\n",
    "It is *strongly* recommended that gluing of cells occurs as early as possible in the `per_tab` function: the results of other functions will change after a call to `.glue`.\n",
    "\n",
    "Example code for above:\n",
    "\n",
    "```python\n",
    "def per_tab(tab):\n",
    "    # ... code to acquire key_cells, e.g.\n",
    "    key_cells = tab.filter(\"All homes\")\n",
    "    key_cells.glue(lambda cell: cell.extrude(0,3))\n",
    "\n",
    "    # all homes cells have been changed so the \n",
    "    # function we used gives us a different answer now\n",
    "    assert len(tab.filter(\"All homes\")) == 0\n",
    "\n",
    "    # ... rest of per_tab function as per usual\n",
    "    tab.filter(re.compile(\"All homes.*\")).dimension('location', DIRECTLY, ABOVE)\n",
    "    # ...\n",
    "\n",
    "```\n",
    "\n",
    "**WARNING** -- Unlike other functions this modifies the values of the cells. Inappropriate use can lead to inconsistent results! -- **WARNING**\n",
    "\n",
    "Selectors which filter by the values of the affected cells -- like the ones used to select the key cells in the first place -- will return results based on the *modified* values after the use of `.glue`.\n",
    "\n",
    "It is therefore *strongly* recommended that gluing of cells occurs as early as possible in the `per_tab` function.\n",
    "\n",
    "Whilst `.glue` can be chained (it returns the bag of key cells provided to it; the bag is unchanged but the values of the cells in it are) it's not recommended since it isn't a 'pure' function."
   ]
  },
  {
   "cell_type": "markdown",
   "metadata": {},
   "source": [
    "## Other things that might be useful, maybe.\n",
    "\n",
    "`scan.py` looks for duplicated sets of dimension values\n",
    "\n",
    "`bag.pprint`, `.aslist` and `.excel_locations` might be useful ways of displaying the data when debugging."
   ]
  }
 ],
 "metadata": {
  "kernelspec": {
   "display_name": "Python 3",
   "language": "python",
   "name": "python3"
  },
  "language_info": {
   "codemirror_mode": {
    "name": "ipython",
    "version": 3
   },
   "file_extension": ".py",
   "mimetype": "text/x-python",
   "name": "python",
   "nbconvert_exporter": "python",
   "pygments_lexer": "ipython3",
   "version": "3.5.2"
  }
 },
 "nbformat": 4,
 "nbformat_minor": 1
}
